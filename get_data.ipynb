{
 "cells": [
  {
   "cell_type": "code",
   "execution_count": 2,
   "metadata": {},
   "outputs": [],
   "source": [
    "import pymysql\n",
    "import pandas as pd"
   ]
  },
  {
   "cell_type": "code",
   "execution_count": 3,
   "metadata": {},
   "outputs": [],
   "source": [
    "config ={\n",
    "    'host':\"rm-8vbwj6507z6465505ro.mysql.zhangbei.rds.aliyuncs.com\",\n",
    "    'port':3306,\n",
    "    'user':'root',\n",
    "    'password':'AI@2019@ai',\n",
    "    'db':'stu_db',\n",
    "    'charset':'utf8mb4',\n",
    "    'cursorclass':pymysql.cursors.DictCursor,\n",
    "}"
   ]
  },
  {
   "cell_type": "code",
   "execution_count": 12,
   "metadata": {},
   "outputs": [],
   "source": [
    "con=pymysql.connect(**config)"
   ]
  },
  {
   "cell_type": "code",
   "execution_count": 13,
   "metadata": {},
   "outputs": [],
   "source": [
    "try:\n",
    "    with con.cursor() as cursor:\n",
    "        sql = \"show tables\"\n",
    "        cursor.execute(sql)\n",
    "        result = cursor.fetchall()\n",
    "finally:\n",
    "    con.close()"
   ]
  },
  {
   "cell_type": "code",
   "execution_count": 14,
   "metadata": {},
   "outputs": [
    {
     "data": {
      "text/plain": [
       "[{'Tables_in_stu_db': 'alembic_version'},\n",
       " {'Tables_in_stu_db': 'my_stopwords'},\n",
       " {'Tables_in_stu_db': 'news_chinese'},\n",
       " {'Tables_in_stu_db': 'news_chinese_backup'},\n",
       " {'Tables_in_stu_db': 'runoob_tbl'},\n",
       " {'Tables_in_stu_db': 'table_name'}]"
      ]
     },
     "execution_count": 14,
     "metadata": {},
     "output_type": "execute_result"
    }
   ],
   "source": [
    "result"
   ]
  },
  {
   "cell_type": "code",
   "execution_count": 9,
   "metadata": {},
   "outputs": [],
   "source": [
    "try:\n",
    "    with con.cursor() as cursor:\n",
    "        sql = \"select * from news_chinese\"\n",
    "        cursor.execute(sql)\n",
    "        result = cursor.fetchall()\n",
    "finally:\n",
    "    con.close()\n",
    "df = pd.DataFrame(result)"
   ]
  },
  {
   "cell_type": "code",
   "execution_count": 10,
   "metadata": {},
   "outputs": [
    {
     "data": {
      "text/html": [
       "<div>\n",
       "<style scoped>\n",
       "    .dataframe tbody tr th:only-of-type {\n",
       "        vertical-align: middle;\n",
       "    }\n",
       "\n",
       "    .dataframe tbody tr th {\n",
       "        vertical-align: top;\n",
       "    }\n",
       "\n",
       "    .dataframe thead th {\n",
       "        text-align: right;\n",
       "    }\n",
       "</style>\n",
       "<table border=\"1\" class=\"dataframe\">\n",
       "  <thead>\n",
       "    <tr style=\"text-align: right;\">\n",
       "      <th></th>\n",
       "      <th>author</th>\n",
       "      <th>content</th>\n",
       "      <th>feature</th>\n",
       "      <th>id</th>\n",
       "      <th>source</th>\n",
       "      <th>title</th>\n",
       "      <th>url</th>\n",
       "    </tr>\n",
       "  </thead>\n",
       "  <tbody>\n",
       "    <tr>\n",
       "      <th>0</th>\n",
       "      <td>王子江 张寒</td>\n",
       "      <td>新华社德国杜塞尔多夫６月６日电题：乒乓女球迷　\\n　　新华社记者王子江、张寒\\n　　熊老...</td>\n",
       "      <td>{\"type\":\"体育\",\"site\":\"新华社\",\"url\":\"http://home.x...</td>\n",
       "      <td>1</td>\n",
       "      <td>新华社</td>\n",
       "      <td>（体育）题：乒乓女球迷</td>\n",
       "      <td>http://home.xinhua-news.com/gdsd</td>\n",
       "    </tr>\n",
       "    <tr>\n",
       "      <th>1</th>\n",
       "      <td>夏文辉</td>\n",
       "      <td>\\n\\n2017年5月25日，在美国马萨诸塞州剑桥市，哈佛大学毕业生在毕业典礼上欢呼。（新华...</td>\n",
       "      <td>{\"type\":\"其它\",\"site\":\"新华社\",\"url\":\"http://home.x...</td>\n",
       "      <td>2</td>\n",
       "      <td>新华社</td>\n",
       "      <td>哈佛大学为何取消这些新生入选资格？</td>\n",
       "      <td>http://home.xinhua-news.com/gdsd</td>\n",
       "    </tr>\n",
       "    <tr>\n",
       "      <th>2</th>\n",
       "      <td>张旌</td>\n",
       "      <td>\\n\\n2017年5月29日，在法国巴黎郊外的凡尔赛宫，法国总统马克龙出席新闻发布会。（新华...</td>\n",
       "      <td>{\"type\":\"其它\",\"site\":\"新华社\",\"url\":\"http://home.x...</td>\n",
       "      <td>3</td>\n",
       "      <td>新华社</td>\n",
       "      <td>法国议会选举　马克龙有望获“压倒性胜利”</td>\n",
       "      <td>http://home.xinhua-news.com/gdsd</td>\n",
       "    </tr>\n",
       "    <tr>\n",
       "      <th>3</th>\n",
       "      <td>王衡</td>\n",
       "      <td>新华社兰州6月3日电（王衡、徐丹）记者从甘肃省交通运输厅获悉，甘肃近日集中开建高速公路、普通...</td>\n",
       "      <td>{\"type\":\"宏观经济\",\"site\":\"新华社\",\"url\":\"http://home...</td>\n",
       "      <td>4</td>\n",
       "      <td>新华社</td>\n",
       "      <td>（经济）甘肃集中开工35个重点交通建设项目</td>\n",
       "      <td>http://home.xinhua-news.com/gdsd</td>\n",
       "    </tr>\n",
       "    <tr>\n",
       "      <th>4</th>\n",
       "      <td>邹峥</td>\n",
       "      <td>新华社照片，多伦多，2017年6月7日\\n（体育）（2）冰球——国家女子冰球队海外选秀在多伦...</td>\n",
       "      <td>{\"type\":\"冰球\",\"site\":\"新华社\",\"url\":\"http://home.x...</td>\n",
       "      <td>5</td>\n",
       "      <td>新华社</td>\n",
       "      <td>（体育）（2）冰球——国家女子冰球队海外选秀在多伦多展开</td>\n",
       "      <td>http://home.xinhua-news.com/gdsd</td>\n",
       "    </tr>\n",
       "  </tbody>\n",
       "</table>\n",
       "</div>"
      ],
      "text/plain": [
       "   author                                            content  \\\n",
       "0  王子江 张寒  　　新华社德国杜塞尔多夫６月６日电题：乒乓女球迷　\\n　　新华社记者王子江、张寒\\n　　熊老...   \n",
       "1     夏文辉  \\n\\n2017年5月25日，在美国马萨诸塞州剑桥市，哈佛大学毕业生在毕业典礼上欢呼。（新华...   \n",
       "2      张旌  \\n\\n2017年5月29日，在法国巴黎郊外的凡尔赛宫，法国总统马克龙出席新闻发布会。（新华...   \n",
       "3      王衡  新华社兰州6月3日电（王衡、徐丹）记者从甘肃省交通运输厅获悉，甘肃近日集中开建高速公路、普通...   \n",
       "4      邹峥  新华社照片，多伦多，2017年6月7日\\n（体育）（2）冰球——国家女子冰球队海外选秀在多伦...   \n",
       "\n",
       "                                             feature  id source  \\\n",
       "0  {\"type\":\"体育\",\"site\":\"新华社\",\"url\":\"http://home.x...   1    新华社   \n",
       "1  {\"type\":\"其它\",\"site\":\"新华社\",\"url\":\"http://home.x...   2    新华社   \n",
       "2  {\"type\":\"其它\",\"site\":\"新华社\",\"url\":\"http://home.x...   3    新华社   \n",
       "3  {\"type\":\"宏观经济\",\"site\":\"新华社\",\"url\":\"http://home...   4    新华社   \n",
       "4  {\"type\":\"冰球\",\"site\":\"新华社\",\"url\":\"http://home.x...   5    新华社   \n",
       "\n",
       "                          title                               url  \n",
       "0                  （体育）题：乒乓女球迷　  http://home.xinhua-news.com/gdsd  \n",
       "1             哈佛大学为何取消这些新生入选资格？  http://home.xinhua-news.com/gdsd  \n",
       "2          法国议会选举　马克龙有望获“压倒性胜利”  http://home.xinhua-news.com/gdsd  \n",
       "3         （经济）甘肃集中开工35个重点交通建设项目  http://home.xinhua-news.com/gdsd  \n",
       "4  （体育）（2）冰球——国家女子冰球队海外选秀在多伦多展开  http://home.xinhua-news.com/gdsd  "
      ]
     },
     "execution_count": 10,
     "metadata": {},
     "output_type": "execute_result"
    }
   ],
   "source": [
    "df.head()"
   ]
  },
  {
   "cell_type": "code",
   "execution_count": null,
   "metadata": {},
   "outputs": [],
   "source": []
  },
  {
   "cell_type": "code",
   "execution_count": 2,
   "metadata": {},
   "outputs": [],
   "source": [
    "host = \"rm-8vbwj6507z6465505ro.mysql.zhangbei.rds.aliyuncs.com\"\n",
    "user = \"root\"\n",
    "password = \"AI@2019@ai\"\n",
    "database = \"stu_db\"\n",
    "port = \"3306\"\n",
    "engine = create_engine(\"mysql+pymysql://{user}:{pswd}@{host}:{port}/{db}?charset=utf8\".\\\n",
    "                       format(user=user,pswd=password,host=host,port=port,db=database))"
   ]
  },
  {
   "cell_type": "code",
   "execution_count": null,
   "metadata": {},
   "outputs": [],
   "source": []
  },
  {
   "cell_type": "code",
   "execution_count": null,
   "metadata": {},
   "outputs": [],
   "source": []
  }
 ],
 "metadata": {
  "kernelspec": {
   "display_name": "Python 3",
   "language": "python",
   "name": "python3"
  },
  "language_info": {
   "codemirror_mode": {
    "name": "ipython",
    "version": 3
   },
   "file_extension": ".py",
   "mimetype": "text/x-python",
   "name": "python",
   "nbconvert_exporter": "python",
   "pygments_lexer": "ipython3",
   "version": "3.6.6"
  }
 },
 "nbformat": 4,
 "nbformat_minor": 2
}
