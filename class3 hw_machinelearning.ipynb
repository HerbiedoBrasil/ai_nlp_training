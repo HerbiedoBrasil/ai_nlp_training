{
 "cells": [
  {
   "cell_type": "code",
   "execution_count": null,
   "metadata": {},
   "outputs": [],
   "source": [
    "locals()"
   ]
  },
  {
   "cell_type": "markdown",
   "metadata": {},
   "source": [
    "## Assignments for Week-02"
   ]
  },
  {
   "cell_type": "markdown",
   "metadata": {},
   "source": [
    "In this course, we learnt what's the search problem and what's the machine leanring. In this assignment, we need you do some more practice."
   ]
  },
  {
   "cell_type": "markdown",
   "metadata": {},
   "source": [
    "### 1. Re-code the house price machine learning\n",
    "\n",
    "###### 1. Random Choose Method to get optimal *k* and *b*\n",
    "###### 2.Supervised Direction to get optimal *k* and *b*\n",
    "###### 3.Gradient Descent to get optimal *k* and *b*\n",
    "###### 4. Try different Loss function and learning rate. \n",
    "\n",
    "For example, you can change the loss function: $Loss = \\frac{1}{n} sum({y_i - \\hat{y_i}})^2$ to $Loss = \\frac{1}{n} sum(|{y_i - \\hat{y_i}}|)$\n",
    "\n",
    "And you can change the learning rate and observe the performance."
   ]
  },
  {
   "cell_type": "code",
   "execution_count": 1,
   "metadata": {},
   "outputs": [],
   "source": [
    "from sklearn.datasets import load_boston\n"
   ]
  },
  {
   "cell_type": "code",
   "execution_count": 2,
   "metadata": {},
   "outputs": [],
   "source": [
    "data = load_boston()\n",
    "X, y = data['data'], data['target']"
   ]
  },
  {
   "cell_type": "code",
   "execution_count": null,
   "metadata": {},
   "outputs": [],
   "source": [
    "len(y)"
   ]
  },
  {
   "cell_type": "markdown",
   "metadata": {},
   "source": [
    "### note: pay attention to the differences between X[：,5] and X[:5] , one refers to an array(5th column), another is a slice of the matrix(first 5 rows)"
   ]
  },
  {
   "cell_type": "code",
   "execution_count": null,
   "metadata": {},
   "outputs": [],
   "source": [
    "len(X[:,5])"
   ]
  },
  {
   "cell_type": "code",
   "execution_count": null,
   "metadata": {},
   "outputs": [],
   "source": [
    "len(X[:5])"
   ]
  },
  {
   "cell_type": "code",
   "execution_count": 3,
   "metadata": {},
   "outputs": [],
   "source": [
    "import matplotlib.pyplot as plt\n",
    "%matplotlib inline\n",
    "def draw_rm_and_price():\n",
    "    plt.scatter(X[:, 5], y)"
   ]
  },
  {
   "cell_type": "code",
   "execution_count": 4,
   "metadata": {},
   "outputs": [
    {
     "data": {
      "image/png": "[encoded data removed]",
      "text/plain": [
       "<Figure size 432x288 with 1 Axes>"
      ]
     },
     "metadata": {
      "needs_background": "light"
     },
     "output_type": "display_data"
    }
   ],
   "source": [
    "draw_rm_and_price()"
   ]
  },
  {
   "cell_type": "code",
   "execution_count": 7,
   "metadata": {},
   "outputs": [],
   "source": [
    "import random"
   ]
  },
  {
   "cell_type": "code",
   "execution_count": 5,
   "metadata": {},
   "outputs": [],
   "source": [
    "def price(rm, k, b):\n",
    "    \"\"\"f(x) = k * x + b\"\"\"\n",
    "    return k * rm + b  "
   ]
  },
  {
   "cell_type": "markdown",
   "metadata": {},
   "source": [
    "First, try some random number as parameters k and b."
   ]
  },
  {
   "cell_type": "code",
   "execution_count": 8,
   "metadata": {},
   "outputs": [
    {
     "data": {
      "text/plain": [
       "<matplotlib.collections.PathCollection at 0x277ce382b70>"
      ]
     },
     "execution_count": 8,
     "metadata": {},
     "output_type": "execute_result"
    },
    {
     "data": {
      "image/png": "[encoded data removed]",
      "text/plain": [
       "<Figure size 432x288 with 1 Axes>"
      ]
     },
     "metadata": {
      "needs_background": "light"
     },
     "output_type": "display_data"
    }
   ],
   "source": [
    "\n",
    "X_rm = X[:, 5] # number of rooms \n",
    "k = random.randint(-100, 100) \n",
    "b = random.randint(-100, 100)\n",
    "price_by_random_k_and_b = [price(r, k, b) for r in X_rm]\n",
    "\n",
    "draw_rm_and_price()\n",
    "plt.scatter(X_rm, price_by_random_k_and_b)"
   ]
  },
  {
   "cell_type": "markdown",
   "metadata": {},
   "source": [
    "## loss functions \n",
    "\n",
    "$$ loss = \\frac{1}{n} \\sum{(y_i - \\hat{y_i})^2}$$\n",
    "\n",
    "$$ loss = \\frac{1}{n} \\sum{ (\\mid y_i - \\hat{y_i} \\mid) }$$"
   ]
  },
  {
   "cell_type": "code",
   "execution_count": 9,
   "metadata": {},
   "outputs": [],
   "source": [
    "def loss(y, y_hat): # to evaluate the performance \n",
    "    return sum((y_i - y_hat_i)**2 for y_i, y_hat_i in zip(list(y), list(y_hat))) / len(list(y))"
   ]
  },
  {
   "cell_type": "code",
   "execution_count": 10,
   "metadata": {},
   "outputs": [],
   "source": [
    "def loss_abs(y,y_hat):\n",
    "    return sum(abs(y_i - y_hat_i) for y_i, y_hat_i in zip(list(y), list(y_hat)))"
   ]
  },
  {
   "cell_type": "code",
   "execution_count": null,
   "metadata": {},
   "outputs": [],
   "source": [
    "data['feature_names']\n",
    "#data['DESCR']"
   ]
  },
  {
   "cell_type": "markdown",
   "metadata": {},
   "source": [
    "### whenever a new loss is smaller than the current best, adjust the next parameters on a random direction. "
   ]
  },
  {
   "cell_type": "code",
   "execution_count": null,
   "metadata": {},
   "outputs": [],
   "source": [
    "trying_times =8000\n",
    "\n",
    "min_loss = float('inf')\n",
    "\n",
    "best_k = random.random() * 200 - 100\n",
    "best_b = random.random() * 200 - 100\n",
    "\n",
    "direction = [\n",
    "    (+1, -1),  # first element: k's change direction, second element: b's change direction\n",
    "    (+1, +1), \n",
    "    (-1, -1), \n",
    "    (-1, +1),\n",
    "]\n",
    "\n",
    "next_direction = random.choice(direction)\n",
    "\n",
    "scalar = 0.1\n",
    "\n",
    "for i in range(trying_times):\n",
    "    \n",
    "    k_direction, b_direction = next_direction\n",
    "    \n",
    "    current_k, current_b = best_k + k_direction * scalar, best_b + b_direction * scalar\n",
    "    \n",
    "    price_by_k_and_b = [price(r, current_k, current_b) for r in X_rm]\n",
    "\n",
    "    current_loss = loss(y, price_by_k_and_b)\n",
    "    \n",
    "    if current_loss < min_loss: # performance became better\n",
    "        min_loss = current_loss\n",
    "        best_k, best_b = current_k, current_b\n",
    "        \n",
    "        next_direction = next_direction\n",
    "    else:\n",
    "        next_direction = random.choice(direction)\n",
    "    if i%200==0: print('When time is : {}, get best_k: {} best_b: {}, and the loss is: {}'.format(i, best_k, best_b, min_loss))"
   ]
  },
  {
   "cell_type": "code",
   "execution_count": null,
   "metadata": {},
   "outputs": [],
   "source": [
    "i"
   ]
  },
  {
   "cell_type": "markdown",
   "metadata": {},
   "source": [
    "### gradient descent "
   ]
  },
  {
   "cell_type": "code",
   "execution_count": 11,
   "metadata": {},
   "outputs": [],
   "source": [
    "def update_weights(X, y, k, b, learning_rate):\n",
    "  #  weight_deriv = 0\n",
    "    k_deriv=0\n",
    "   # bias_deriv = 0\n",
    "    b_deriv=0\n",
    "    N = len(X)\n",
    "    \n",
    "    #learning rate \n",
    "  \n",
    "\n",
    "    for i in range(N):\n",
    "        # Calculate partial derivatives\n",
    "        # -2x(y - (mx + b))\n",
    "        k_deriv += -2*X[i] * (y[i] - (k*X[i] + b))\n",
    "        #print('k_deriv',k_deriv)\n",
    "\n",
    "        # -2(y - (mx + b))\n",
    "        b_deriv+= -2*(y[i] - (k*X[i] + b))\n",
    "        #print('b_deriv',b_deriv)\n",
    "\n",
    "    # We subtract because the derivatives point in direction of steepest ascent\n",
    "    k -= (k_deriv / N) * learning_rate\n",
    "    b -= (b_deriv / N) * learning_rate\n",
    "\n",
    "    return k, b"
   ]
  },
  {
   "cell_type": "code",
   "execution_count": 12,
   "metadata": {},
   "outputs": [
    {
     "data": {
      "text/plain": [
       "(-128.22299537223032, -26.020432486962402)"
      ]
     },
     "execution_count": 12,
     "metadata": {},
     "output_type": "execute_result"
    }
   ],
   "source": [
    "update_weights(X_rm, y,10.054955982213443, -4.06270750988142, 0.3)"
   ]
  },
  {
   "cell_type": "code",
   "execution_count": 18,
   "metadata": {},
   "outputs": [
    {
     "name": "stdout",
     "output_type": "stream",
     "text": [
      "(9.406883386889328, 79.74680365612649)\n",
      "16072.472372899198\n",
      "(-8.23403620106536, 75.60664456076765)\n",
      "193.44142274423274\n",
      "(-8.026838733413877, 74.28863701772977)\n",
      "189.8811020819332\n",
      "(-7.82211764042063, 72.98638198612912)\n",
      "186.4053770518937\n",
      "(-7.619843325047028, 71.69969119571041)\n",
      "183.01223760454948\n",
      "(-7.4199865439912385, 70.42837862637982)\n",
      "179.6997214504764\n",
      "(-7.22251840346035, 69.17226048131083)\n",
      "176.46591292557707\n",
      "(-7.027410354993209, 67.931155160373)\n",
      "173.30894188323091\n",
      "(-6.834634191332931, 66.70488323387661)\n",
      "170.22698261276852\n",
      "(-6.644162042349147, 65.49326741663346)\n",
      "167.21825278364417\n",
      "(-6.455966371008646, 64.29613254232564)\n",
      "164.28101241469452\n",
      "(-6.270019969394183, 63.11330553818073)\n",
      "161.41356286788684\n",
      "(-6.08629595477108, 61.94461539995104)\n",
      "158.61424586598042\n",
      "(-5.904767765700673, 60.789893167190726)\n",
      "155.88144253352493\n",
      "(-5.725409158200317, 59.64897189882912)\n",
      "153.21357246064989\n",
      "(-5.5481942019491095, 58.52168664903494)\n",
      "150.6090927890922\n",
      "(-5.37309727653921, 57.407874443370474)\n",
      "148.06649731994855\n",
      "(-5.200093067771723, 56.30737425522922)\n",
      "145.58431564262193\n",
      "(-5.029156563997083, 55.220026982556654)\n",
      "143.16111228446812\n",
      "(-4.860263052498918, 54.145675424847624)\n",
      "140.79548588064563\n",
      "(-4.693388115921378, 53.08416426042005)\n",
      "138.48606836369206\n",
      "(-4.5285076287390105, 52.03534002395953)\n",
      "136.23152417235403\n",
      "(-4.36559775376888, 50.99905108433236)\n",
      "134.03054947922004\n",
      "(-4.204634938724378, 49.975147622664004)\n",
      "131.88187143670143\n",
      "(-4.045595912810208, 48.96348161067946)\n",
      "129.78424744093095\n",
      "(-3.8884576833580353, 47.963906789302044)\n",
      "127.73646441315103\n",
      "(-3.733197532502427, 46.976278647508835)\n",
      "125.7373380981783\n",
      "(-3.5797930138964573, 46.00045440143815)\n",
      "123.78571237953516\n",
      "(-3.4282219494665536, 45.036292973746754)\n",
      "121.88045861085483\n",
      "(-3.278462426206211, 44.08365497321432)\n",
      "120.02047496317338\n",
      "(-3.130492793007934, 43.14240267459106)\n",
      "118.20468578773043\n",
      "(-2.9842916575330953, 42.21239999868643)\n",
      "116.43204099390847\n",
      "(-2.839837883119202, 41.293512492695996)\n",
      "114.70151544195559\n",
      "(-2.6971105857240705, 40.3856073107629)\n",
      "113.0121083501347\n",
      "(-2.55608913090664, 39.4885531947725)\n",
      "111.36284271596146\n",
      "(-2.416753130843737, 38.60222045537563)\n",
      "109.75276475119233\n",
      "(-2.2790824413826067, 37.726480953239395)\n",
      "108.18094333024007\n",
      "(-2.1430571591285736, 36.8612080805215)\n",
      "106.64646945169139\n",
      "(-2.0086576185675886, 36.00627674256632)\n",
      "105.1484557126231\n",
      "(-1.875864389223161, 35.16156333981994)\n",
      "103.6860357954074\n",
      "(-1.7446582728471485, 34.32694574996036)\n",
      "102.25836396670958\n",
      "(-1.6150203006443598, 33.50230331024283)\n",
      "100.8646145883934\n",
      "(-1.4869317305300558, 32.6875168000546)\n",
      "99.50398164004355\n",
      "(-1.360374044420464, 31.882468423679473)\n",
      "98.17567825283635\n",
      "(-1.2353289455555094, 31.087041793267428)\n",
      "96.87893625448523\n",
      "(-1.1117783558536216, 30.301121912008192)\n",
      "95.61300572499727\n",
      "(-0.9897044132981418, 29.52459515750591)\n",
      "94.3771545629868\n",
      "(-0.8690894693549667, 28.757349265352463)\n",
      "93.1706680622938\n",
      "(-0.7499160864210668, 27.99927331289717)\n",
      "91.99284849866062\n",
      "(-0.6321670353034938, 27.250257703210476)\n",
      "90.84301472623153\n",
      "(-0.5158252927284684, 26.51019414923895)\n",
      "89.72050178363745\n",
      "(-0.40087403888033923, 25.778975658150348)\n",
      "88.62466050944246\n",
      "(-0.2872966549698664, 25.05649651586512)\n",
      "87.55485716672626\n",
      "(-0.17507672083160253, 24.342652271773122)\n",
      "86.51047307658735\n",
      "(-0.06419801255001537, 23.637339723633097)\n",
      "85.49090426035437\n",
      "(0.045355499886071834, 22.940456902652226)\n",
      "84.49556109029847\n",
      "(0.15359965490097566, 22.251903058744354)\n",
      "83.52386794864556\n",
      "(0.26055010162193853, 21.571578645964337)\n",
      "82.57526289468984\n",
      "(0.3662223021415911, 20.89938530811628)\n",
      "81.64919733981748\n",
      "(0.47063153375329253, 20.235225864534264)\n",
      "80.74513573025217\n",
      "(0.573792891159861, 19.579004296032323)\n",
      "79.86255523733827\n",
      "(0.6757212886558245, 18.930625731022953)\n",
      "79.00094545518361\n",
      "(0.7764314622836226, 18.28999643180119)\n",
      "78.15980810548564\n",
      "(0.8759379719640418, 17.657023780992702)\n",
      "77.33865674937186\n",
      "(0.9742552036011651, 17.031616268163937)\n",
      "76.537016506088\n",
      "(1.0713973711621865, 16.413683476592194)\n",
      "75.75442377836755\n",
      "(1.16737851873236, 15.803136070193831)\n",
      "74.99042598432945\n",
      "(1.2622125225453875, 15.199885780608742)\n",
      "74.2445812957452\n",
      "(1.355913092989534, 14.603845394439212)\n",
      "73.5164583825243\n",
      "(1.4484937765897814, 14.014928740641214)\n",
      "72.80563616327177\n",
      "(1.5399679579662815, 13.433050678066445)\n",
      "72.11170356177136\n",
      "(1.6303488617693926, 12.858127083153338)\n",
      "71.43425926925728\n",
      "(1.7196495545916262, 12.290074837764946)\n",
      "70.77291151233153\n",
      "(1.807882946856681, 11.728811817172568)\n",
      "70.1272778263975\n",
      "(1.8950617946859627, 11.174256878182591)\n",
      "69.49698483447695\n",
      "(1.9811987017427672, 10.626329847405438)\n",
      "68.88166803128168\n",
      "(2.0663061210544087, 10.084951509664785)\n",
      "68.280971572416\n",
      "(2.150396356812593, 9.55004359654518)\n",
      "67.69454806858839\n",
      "(2.2334815661522653, 9.02152877507658)\n",
      "67.12205838471236\n",
      "(2.3155737609091953, 8.499330636554129)\n",
      "66.56317144378119\n",
      "(2.396684809356568, 7.98337368549154)\n",
      "66.01756403540166\n",
      "(2.476826437920787, 7.473583328706616)\n",
      "65.48492062887945\n",
      "(2.556010232876822, 6.969885864536998)\n",
      "64.96493319074241\n",
      "(2.634247642023237, 6.47220847218505)\n",
      "64.4573010066034\n",
      "(2.711549976337253, 5.98047920118987)\n",
      "63.961730507252405\n",
      "(2.7879284116099883, 5.494626961025318)\n",
      "63.477935098882924\n",
      "(2.8633939900621694, 5.014581510822243)\n",
      "63.00563499735172\n",
      "(2.9379576219405457, 4.540273449213573)\n",
      "62.54455706637624\n",
      "(3.0116300870951944, 4.0716342043008265)\n",
      "62.09443465957735\n",
      "(3.0844220365380055, 3.6085960237404637)\n",
      "61.65500746627445\n",
      "(3.1563439939825138, 3.1510919649487787)\n",
      "61.226021360945396\n",
      "(3.2274063573653446, 2.6990558854238493)\n",
      "60.8072282562624\n",
      "(3.297619400349466, 2.252422433183131)\n",
      "60.398385959620974\n",
      "(3.366993273809482, 1.811127037315378)\n",
      "59.999258033077\n",
      "(3.4355380072991655, 1.3751058986454514)\n",
      "59.6096136566121\n",
      "(3.503263510501458, 0.9442959805107238)\n",
      "59.22922749464822\n",
      "(3.570179574661136, 0.5186349996477095)\n",
      "58.85787956573312\n",
      "(3.636295874000357, 0.09806141718761074)\n",
      "58.49535511532315\n",
      "(3.7016219671172856, -0.31748557024050367)\n",
      "58.14144449158813\n",
      "(3.766167298368004, -0.7280660393001923)\n",
      "57.79594302416741\n",
      "(3.8299411992319046, -1.1337393486330798)\n",
      "57.458650905807\n",
      "(3.8929528896607652, -1.5345641474404759)\n",
      "57.12937307680855\n",
      "(3.955211479411704, -1.93059838396244)\n",
      "56.80791911222446\n",
      "(4.016725969364198, -2.3218993138555093)\n",
      "56.49410311173287\n",
      "(4.077505252821356, -2.7085235084702783)\n",
      "56.187743592129756\n",
      "(4.1375581167956605, -3.090526863030074)\n",
      "55.88866338237475\n",
      "(4.1968932432793125, -3.4679646047118546)\n",
      "55.596689521131786\n",
      "(4.255519210499416, -3.840891300630555)\n",
      "55.31165315674314\n",
      "(4.313444494158156, -4.2093608657279775)\n",
      "55.03338944958123\n",
      "(4.370677468658147, -4.573426570567402)\n",
      "54.76173747671944\n",
      "(4.427226408313138, -4.933141049035075)\n",
      "54.4965401388691\n",
      "(4.483099488544271, -5.288556305949608)\n",
      "54.23764406952712\n",
      "(4.538304787061988, -5.639723724580413)\n",
      "53.98489954628262\n",
      "(4.592850285033879, -5.98669407407635)\n",
      "53.73816040423041\n",
      "(4.646743868238512, -6.329517516805522)\n",
      "53.49728395144283\n",
      "(4.699993328205523, -6.668243615607405)\n",
      "53.26213088644899\n",
      "(4.752606363342047, -7.002921340958259)\n",
      "53.03256521767525\n",
      "(4.8045905800456845, -7.333599078050867)\n",
      "52.808454184800105\n",
      "(4.855953493804201, -7.660324633789786)\n",
      "52.58966818197727\n",
      "(4.9067025302820335, -7.983145243702819)\n",
      "52.376080682883234\n",
      "(4.956845026393858, -8.302107578770055)\n",
      "52.167568167545525\n",
      "(5.006388231365301, -8.617257752171163)\n",
      "51.964010050910204\n",
      "(5.055339307780977, -8.928641325952123)\n",
      "51.76528861310576\n",
      "(5.103705332619988, -9.236303317612183)\n",
      "51.57128893136464\n",
      "(5.151493298279079, -9.540288206612177)\n",
      "51.38189881356222\n",
      "(5.19871011358354, -9.84063994080511)\n",
      "51.197008733334776\n",
      "(5.245362604786025, -10.137401942789662)\n",
      "51.01651176673927\n",
      "(5.291457516553452, -10.430617116188046)\n",
      "50.84030353041797\n",
      "(5.337001512942092, -10.720327851848612)\n",
      "50.66828212123246\n",
      "(5.382001178360996, -11.006576033974369)\n",
      "50.50034805733205\n",
      "(5.426463018523948, -11.289403046178416)\n",
      "50.33640422062209\n",
      "(5.4703934613899765, -11.56884977746672)\n",
      "50.176355800599914\n",
      "(5.513798858092688, -11.84495662814964)\n",
      "50.02011023952454\n",
      "(5.556685483858453, -12.117763515682649)\n",
      "49.86757717888958\n",
      "(5.5990595389136395, -12.387309880437352)\n",
      "49.71866840716818\n",
      "(5.640927149380987, -12.65363469140346)\n",
      "49.573297808799026\n",
      "(5.682294368165276, -12.916776451822559)\n",
      "49.43138131438498\n",
      "(5.723167175828419, -13.17677320475475)\n",
      "49.292836852074785\n",
      "(5.763551481454078, -13.433662538578545)\n",
      "49.1575843000999\n",
      "(5.803453123501963, -13.687481592425137)\n",
      "49.02554544043948\n",
      "(5.842877870651903, -13.938267061547691)\n",
      "48.89664391358553\n",
      "(5.881831422637846, -14.186055202626479)\n",
      "48.77080517438417\n",
      "(5.920319411071873, -14.430881839010514)\n",
      "48.64795644892462\n",
      "(5.958347400258388, -14.672782365896765)\n",
      "48.52802669245365\n",
      "(5.9959208879985635, -14.911791755447286)\n",
      "48.41094654828947\n",
      "(6.03304530638516, -15.14794456184514)\n",
      "48.29664830771213\n",
      "(6.069726022587854, -15.381274926290052)\n",
      "48.18506587080674\n",
      "(6.105968339629209, -15.611816581934336)\n",
      "48.07613470823707\n",
      "(6.141777497151314, -15.839602858759665)\n",
      "47.96979182392785\n",
      "(6.177158672173312, -16.06466668839572)\n",
      "47.8659757186332\n",
      "(6.21211697983985, -16.28704060888126)\n",
      "47.764626354370925\n",
      "(6.246657474160585, -16.506756769368128)\n",
      "47.66568511970217\n",
      "(6.280785148740857, -16.723846934769185)\n",
      "47.56909479583527\n",
      "(6.314504937503634, -16.93834249035069)\n",
      "47.47479952353616\n",
      "(6.347821715402818, -17.15027444626969)\n",
      "47.38274477082387\n",
      "(6.380740299128015, -17.3596734420572)\n",
      "47.292877301434295\n",
      "(6.413265447800903, -17.56656975104782)\n",
      "47.20514514403319\n",
      "(6.445401863663288, -17.77099328475659)\n",
      "47.11949756216006\n",
      "(6.477154192756893, -17.972973597203207)\n",
      "47.035885024887584\n",
      "(6.50852702559507, -18.1725398891848)\n",
      "46.9542591781766\n",
      "(6.539524897826446, -18.369721012497553)\n",
      "46.87457281691253\n",
      "(6.570152290890658, -18.56454547410786)\n",
      "46.79677985760667\n",
      "(6.600413632666251, -18.757041440273657)\n",
      "46.72083531174501\n",
      "(6.6303132981108135, -18.947236740616464)\n",
      "46.64669525977122\n",
      "(6.659855609893501, -19.1351588721449)\n",
      "46.574316825687355\n",
      "(6.689044839019951, -19.320835003229828)\n",
      "46.50365815225819\n",
      "(6.717885205449745, -19.50429197753215)\n",
      "46.43467837680494\n",
      "(6.746380878706554, -19.68555631788398)\n",
      "46.36733760757362\n",
      "(6.7745359784808565, -19.864654230122635)\n",
      "46.301596900665444\n",
      "(6.8023545752256025, -20.041611606879655)\n",
      "46.23741823751504\n",
      "(6.829840690744654, -20.21645403132404)\n",
      "46.174764502903834\n",
      "(6.856998298774219, -20.38920678086072)\n",
      "46.11359946349618\n",
      "(6.8838313255573675, -20.559894830785233)\n",
      "46.05388774688485\n",
      "(6.910343650411662, -20.728542857894375)\n",
      "45.995594821135164\n",
      "(6.93653910628998, -20.8951752440537)\n",
      "45.9386869748145\n",
      "(6.962421480334642, -21.059816079722484)\n",
      "45.88313129749676\n",
      "(6.9879945144249875, -21.222489167436727)\n",
      "45.82889566072993\n",
      "(7.0132619057182755, -21.383218025250088)\n",
      "45.77594869945568\n",
      "(7.038227307184241, -21.542025890134127)\n",
      "45.72425979387082\n",
      "(7.062894328133181, -21.698935721337588)\n",
      "45.67379905171937\n",
      "(7.087266534737791, -21.853970203705803)\n",
      "45.62453729100575\n",
      "(7.111347450548722, -22.007151750960293)\n",
      "45.57644602311823\n",
      "(7.135140557003974, -22.158502508939026)\n",
      "45.52949743635384\n",
      "(7.15864929393225, -22.3080443587983)\n",
      "45.48366437983452\n",
      "(7.181877060050231, -22.455798920176015)\n",
      "45.43892034780556\n",
      "(7.204827213453951, -22.601787554317337)\n",
      "45.39523946430676\n",
      "(7.227503072104283, -22.746031367162928)\n",
      "45.35259646820866\n",
      "(7.249907914306629, -22.8885512124003)\n",
      "45.310966698602854\n",
      "(7.272044979184848, -23.029367694478594)\n",
      "45.27032608054119\n",
      "(7.293917467149588, -23.1685011715876)\n",
      "45.230651111112415\n",
      "(7.315528540360935, -23.3059717586008)\n",
      "45.19191884585056\n",
      "(7.336881323185603, -23.44179932998359)\n",
      "45.15410688546557\n",
      "(7.357978902648624, -23.576003522666458)\n",
      "45.117193362889715\n",
      "(7.378824328879633, -23.708603738883973)\n",
      "45.0811569306317\n",
      "(7.399420615553844, -23.83961914897983)\n",
      "45.04597674843098\n",
      "(7.419770740327766, -23.96906869417845)\n",
      "45.01163247120585\n",
      "(7.439877645269635, -24.096971089323095)\n",
      "44.97810423728759\n",
      "(7.459744237284812, -24.223344825581805)\n",
      "44.94537265693387\n",
      "(7.479373388536018, -24.34820817312059)\n",
      "44.913418801116094\n",
      "(7.498767936858566, -24.471579183744737)\n",
      "44.882224190572195\n"
     ]
    }
   ],
   "source": [
    "import numpy as np\n",
    "cost_history = []\n",
    "loss_history = [] \n",
    "iters=100000\n",
    "alpha=0.001\n",
    "X_rm = X[:, 5] # number of rooms \n",
    "N=len(X_rm)\n",
    "theta=11,80\n",
    "for i in range(iters):\n",
    "    #print(current_k)\n",
    "    price_by_k_and_b = [price(r, theta[0], theta[1]) for r in X_rm]\n",
    "    #current_loss_array = price_by_k_and_b - y\n",
    "    current_loss=loss(y,price_by_k_and_b)\n",
    "    theta=update_weights(X_rm,y,theta[0],theta[1],alpha)\n",
    "    #update_weights(X, y, k, b, learning_rate):\n",
    "    # Log Progress\n",
    "    if i % 500 == 0:\n",
    "        print(theta)\n",
    "        print(current_loss)\n",
    "            #print(\"iter={:d}    weight={:.2f}    bias={:.4f}    cost={:.2}\".format(i, current_k, current_b, current_loss))"
   ]
  },
  {
   "cell_type": "markdown",
   "metadata": {},
   "source": [
    "## change it to use absolute value loss function"
   ]
  }
 ],
 "metadata": {
  "kernelspec": {
   "display_name": "Python 3",
   "language": "python",
   "name": "python3"
  },
  "language_info": {
   "codemirror_mode": {
    "name": "ipython",
    "version": 3
   },
   "file_extension": ".py",
   "mimetype": "text/x-python",
   "name": "python",
   "nbconvert_exporter": "python",
   "pygments_lexer": "ipython3",
   "version": "3.7.1"
  }
 },
 "nbformat": 4,
 "nbformat_minor": 2
}
