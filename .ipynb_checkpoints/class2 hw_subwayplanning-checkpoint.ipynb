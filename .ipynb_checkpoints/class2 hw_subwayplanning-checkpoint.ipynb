{
 "cells": [
  {
   "cell_type": "markdown",
   "metadata": {},
   "source": [
    "# Subway route planning\n",
    "In this project, we use graph search algorithm to plan the best subway route. \n",
    "- 1. Scrape web data to obtain subway routes, station information and between station distances. \n",
    "- 2. Parse, clean and organize station, routes and distances data. \n",
    "- 3. The search algorithm to find routes. \n",
    "- 4. The comparison algorithm(s) to determine the best route. So far , we can pick paths base on \n",
    "    - minimum stops\n",
    "    - minimum total distances "
   ]
  },
  {
   "cell_type": "markdown",
   "metadata": {},
   "source": [
    "## 1. Scrape web data \n",
    "\n",
    "We use requests package to get the Beijing Subway website in html form, and use beautifulsoup to parse it to obtain subway routes, station information and between station distances. "
   ]
  },
  {
   "cell_type": "code",
   "execution_count": 2,
   "metadata": {},
   "outputs": [],
   "source": [
    "import requests \n",
    "subway_main_url=\"http://www.bjsubway.com/station/xltcx/\"\n",
    "distance_url=\"http://www.bjsubway.com/station/zjgls/#\"\n",
    "main_page = requests.get(subway_main_url) \n",
    "distance_page=requests.get(distance_url)"
   ]
  },
  {
   "cell_type": "code",
   "execution_count": 3,
   "metadata": {},
   "outputs": [],
   "source": [
    "from bs4 import BeautifulSoup\n",
    "soup = BeautifulSoup(distance_page.content, 'html.parser')"
   ]
  },
  {
   "cell_type": "markdown",
   "metadata": {},
   "source": [
    "First, try one subway line, whose info are organized under the section with id='sub6'. "
   ]
  },
  {
   "cell_type": "code",
   "execution_count": 53,
   "metadata": {},
   "outputs": [
    {
     "data": {
      "text/plain": [
       "[<th>国家图书馆――白石桥南</th>,\n",
       " <th>白石桥南――白堆子</th>,\n",
       " <th>白堆子――军事博物馆</th>,\n",
       " <th>军事博物馆――北京西站</th>,\n",
       " <th>北京西站――六里桥东</th>,\n",
       " <th>六里桥东――六里桥</th>,\n",
       " <th>六里桥――七里庄</th>,\n",
       " <th>七里庄――丰台东大街</th>,\n",
       " <th>丰台东大街――丰台南路</th>,\n",
       " <th>丰台南路――科怡路</th>,\n",
       " <th>科怡路――丰台科技园</th>,\n",
       " <th>丰台科技园――郭公庄</th>]"
      ]
     },
     "execution_count": 53,
     "metadata": {},
     "output_type": "execute_result"
    }
   ],
   "source": [
    "soup.find(id=\"sub6\").select(\"div  th\")"
   ]
  },
  {
   "cell_type": "code",
   "execution_count": 71,
   "metadata": {},
   "outputs": [
    {
     "name": "stdout",
     "output_type": "stream",
     "text": [
      "['国家图书馆――白石桥南', '白石桥南――白堆子', '白堆子――军事博物馆', '军事博物馆――北京西站', '北京西站――六里桥东', '六里桥东――六里桥', '六里桥――七里庄', '七里庄――丰台东大街', '丰台东大街――丰台南路', '丰台南路――科怡路', '科怡路――丰台科技园', '丰台科技园――郭公庄']\n",
      "12\n"
     ]
    }
   ],
   "source": [
    "stationlist=[station.get_text() for station in soup.find(id=\"sub6\").select(\"div th\")]\n",
    "print(stationlist)\n",
    "print(len(stationlist))"
   ]
  },
  {
   "cell_type": "code",
   "execution_count": 70,
   "metadata": {},
   "outputs": [
    {
     "name": "stdout",
     "output_type": "stream",
     "text": [
      "['1096', '943', '1912', '1398', '1170', '1309', '1778', '1325', '1585', '980', '788', '1347']\n",
      "12\n"
     ]
    }
   ],
   "source": [
    "distancelist=[distance.get_text() for distance in soup.find(id=\"sub6\").select(\"div  td\") if distance.get_text().isnumeric() ]\n",
    "print(distancelist)\n",
    "print(len(distancelist))"
   ]
  },
  {
   "cell_type": "markdown",
   "metadata": {},
   "source": [
    "From inspecting the website source we find out that all lines are organized under id=sub0, sub1, ...etc. Make the id list used for looping "
   ]
  },
  {
   "cell_type": "code",
   "execution_count": 4,
   "metadata": {},
   "outputs": [
    {
     "data": {
      "text/plain": [
       "['sub0',\n",
       " 'sub1',\n",
       " 'sub2',\n",
       " 'sub3',\n",
       " 'sub4',\n",
       " 'sub5',\n",
       " 'sub6',\n",
       " 'sub7',\n",
       " 'sub8',\n",
       " 'sub9',\n",
       " 'sub10',\n",
       " 'sub11',\n",
       " 'sub12',\n",
       " 'sub13',\n",
       " 'sub14',\n",
       " 'sub15',\n",
       " 'sub16',\n",
       " 'sub17']"
      ]
     },
     "execution_count": 4,
     "metadata": {},
     "output_type": "execute_result"
    }
   ],
   "source": [
    "id_list=[]\n",
    "for i in range(0,18):\n",
    "    id_list.append('sub'+str(i))\n",
    "id_list"
   ]
  },
  {
   "cell_type": "markdown",
   "metadata": {},
   "source": [
    "It turns out that there is one page whose format is slightly off."
   ]
  },
  {
   "cell_type": "code",
   "execution_count": 84,
   "metadata": {},
   "outputs": [
    {
     "name": "stdout",
     "output_type": "stream",
     "text": [
      "oops we have a problem\n",
      "sub2\n"
     ]
    }
   ],
   "source": [
    "#this works \n",
    "for oneid in id_list:\n",
    "    stationlist=[station.get_text() for station in soup.find(id=oneid).select(\"div th\")]\n",
    "    #print(stationlist)\n",
    "    #print(len(stationlist))\n",
    "    distancelist=[distance.get_text() for distance in soup.find(id=oneid).select(\"div  td\") if distance.get_text().isnumeric() ]\n",
    "    #print(distancelist)\n",
    "    if len(stationlist)!=len(distancelist):\n",
    "        print('oops we have a problem')\n",
    "        print(oneid)"
   ]
  },
  {
   "cell_type": "code",
   "execution_count": 79,
   "metadata": {},
   "outputs": [
    {
     "data": {
      "text/plain": [
       "['起始/终到车站',\n",
       " '区间距离（米）',\n",
       " '方向',\n",
       " '安河桥北――北宫门',\n",
       " '北宫门――西苑',\n",
       " '西苑――圆明园',\n",
       " '圆明园――北京大学东门',\n",
       " '北京大学东门――中关村',\n",
       " '中关村――海淀黄庄',\n",
       " '海淀黄庄――人民大学',\n",
       " '人民大学――魏公村',\n",
       " '魏公村――国家图书馆',\n",
       " '国家图书馆――动物园',\n",
       " '动物园――西直门',\n",
       " '西直门――新街口',\n",
       " '新街口――平安里',\n",
       " '平安里――西四',\n",
       " '西四――灵境胡同',\n",
       " '灵境胡同――西单',\n",
       " '西单――宣武门',\n",
       " '宣武门――菜市口',\n",
       " '菜市口――陶然亭',\n",
       " '陶然亭――北京南站',\n",
       " '北京南站――马家堡',\n",
       " '马家堡――角门西',\n",
       " '角门西――公益西桥']"
      ]
     },
     "execution_count": 79,
     "metadata": {},
     "output_type": "execute_result"
    }
   ],
   "source": [
    "oneid='sub2'\n",
    "stationlist=[station.get_text() for station in soup.find(id=oneid).select(\"div th\")]\n",
    "stationlist"
   ]
  },
  {
   "cell_type": "code",
   "execution_count": 86,
   "metadata": {},
   "outputs": [],
   "source": [
    "import pandas as pd \n",
    "departure=[station[0] for station in stationlist_new]\n",
    "destination=[station[1] for station in stationlist_new]\n",
    "distancelist=[distance.get_text() for distance in soup.find(id='sub3').select(\"div  td\") if distance.get_text().isnumeric() ]\n",
    "station_distance_df=pd.DataFrame({'departure': departure,\n",
    "                                'destination':destination,\n",
    "                                'distance':distancelist})\n"
   ]
  },
  {
   "cell_type": "code",
   "execution_count": 87,
   "metadata": {},
   "outputs": [
    {
     "data": {
      "text/html": [
       "<div>\n",
       "<style scoped>\n",
       "    .dataframe tbody tr th:only-of-type {\n",
       "        vertical-align: middle;\n",
       "    }\n",
       "\n",
       "    .dataframe tbody tr th {\n",
       "        vertical-align: top;\n",
       "    }\n",
       "\n",
       "    .dataframe thead th {\n",
       "        text-align: right;\n",
       "    }\n",
       "</style>\n",
       "<table border=\"1\" class=\"dataframe\">\n",
       "  <thead>\n",
       "    <tr style=\"text-align: right;\">\n",
       "      <th></th>\n",
       "      <th>departure</th>\n",
       "      <th>destination</th>\n",
       "      <th>distance</th>\n",
       "    </tr>\n",
       "  </thead>\n",
       "  <tbody>\n",
       "    <tr>\n",
       "      <th>0</th>\n",
       "      <td>天通苑北</td>\n",
       "      <td>天通苑</td>\n",
       "      <td>939</td>\n",
       "    </tr>\n",
       "    <tr>\n",
       "      <th>1</th>\n",
       "      <td>天通苑</td>\n",
       "      <td>天通苑南</td>\n",
       "      <td>965</td>\n",
       "    </tr>\n",
       "    <tr>\n",
       "      <th>2</th>\n",
       "      <td>天通苑南</td>\n",
       "      <td>立水桥</td>\n",
       "      <td>1544</td>\n",
       "    </tr>\n",
       "    <tr>\n",
       "      <th>3</th>\n",
       "      <td>立水桥</td>\n",
       "      <td>立水桥南</td>\n",
       "      <td>1305</td>\n",
       "    </tr>\n",
       "    <tr>\n",
       "      <th>4</th>\n",
       "      <td>立水桥南</td>\n",
       "      <td>北苑路北</td>\n",
       "      <td>1286</td>\n",
       "    </tr>\n",
       "  </tbody>\n",
       "</table>\n",
       "</div>"
      ],
      "text/plain": [
       "  departure destination distance\n",
       "0      天通苑北         天通苑      939\n",
       "1       天通苑        天通苑南      965\n",
       "2      天通苑南         立水桥     1544\n",
       "3       立水桥        立水桥南     1305\n",
       "4      立水桥南        北苑路北     1286"
      ]
     },
     "execution_count": 87,
     "metadata": {},
     "output_type": "execute_result"
    }
   ],
   "source": [
    "station_distance_df.head()"
   ]
  },
  {
   "cell_type": "markdown",
   "metadata": {},
   "source": [
    "- The if statement ***if len(stationlist)!=len(distancelist):*** takes care of the one subway line whose raw data format is off.   \n",
    "- use ***.split('-')*** so we split the line  \n",
    "\n",
    "- Also, the distance list only provided distances for one direction. So we create another dataframe to add the distances for the other direction. "
   ]
  },
  {
   "cell_type": "code",
   "execution_count": 239,
   "metadata": {},
   "outputs": [
    {
     "name": "stdout",
     "output_type": "stream",
     "text": [
      "oops we have a problem\n",
      "sub2\n",
      "['起始/终到车站', '区间距离（米）', '方向', '安河桥北――北宫门', '北宫门――西苑', '西苑――圆明园', '圆明园――北京大学东门', '北京大学东门――中关村', '中关村――海淀黄庄', '海淀黄庄――人民大学', '人民大学――魏公村', '魏公村――国家图书馆', '国家图书馆――动物园', '动物园――西直门', '西直门――新街口', '新街口――平安里', '平安里――西四', '西四――灵境胡同', '灵境胡同――西单', '西单――宣武门', '宣武门――菜市口', '菜市口――陶然亭', '陶然亭――北京南站', '北京南站――马家堡', '马家堡――角门西', '角门西――公益西桥']\n",
      "['安河桥北――北宫门', '北宫门――西苑', '西苑――圆明园', '圆明园――北京大学东门', '北京大学东门――中关村', '中关村――海淀黄庄', '海淀黄庄――人民大学', '人民大学――魏公村', '魏公村――国家图书馆', '国家图书馆――动物园', '动物园――西直门', '西直门――新街口', '新街口――平安里', '平安里――西四', '西四――灵境胡同', '灵境胡同――西单', '西单――宣武门', '宣武门――菜市口', '菜市口――陶然亭', '陶然亭――北京南站', '北京南站――马家堡', '马家堡――角门西', '角门西――公益西桥']\n"
     ]
    }
   ],
   "source": [
    "#this works \n",
    "distances_data_dict={}\n",
    "distances_data_df=pd.DataFrame()\n",
    "for oneid in id_list:\n",
    "    stationlist=[station.get_text() for station in soup.find(id=oneid).select(\"div th\")]\n",
    "    #print(stationlist)\n",
    "    #print(len(stationlist))\n",
    "    distancelist=[distance.get_text() for distance in soup.find(id=oneid).select(\"div  td\") if distance.get_text().isnumeric() ]\n",
    "    #print(distancelist)\n",
    "    if len(stationlist)!=len(distancelist):\n",
    "        print('oops we have a problem')\n",
    "        print(oneid)\n",
    "        print(stationlist)\n",
    "        stationlist=stationlist[3:]\n",
    "        print(stationlist)\n",
    "    stationlist_new=[station.split('――') for station in stationlist]\n",
    "    departure=[station[0] for station in stationlist_new]\n",
    "    #print(departure)\n",
    "    destination=[station[1] for station in stationlist_new]\n",
    "    #print(destination)\n",
    "    distancelist=[distance.get_text() for distance in soup.find(id=oneid).select(\"div  td\") if distance.get_text().isnumeric() ]\n",
    "    station_distance_df=pd.DataFrame({'departure': departure,\n",
    "                                'destination':destination,\n",
    "                                'distance':distancelist})\n",
    "    station_distance_df_2=pd.DataFrame({'departure': destination,\n",
    "                                'destination':departure,\n",
    "                                'distance':distancelist})\n",
    "    #print(station_distance_df)\n",
    "    #distances_data_dict[oneid]=station_distance_df\n",
    "    distances_data_df=pd.concat([distances_data_df,station_distance_df,station_distance_df_2])"
   ]
  },
  {
   "cell_type": "markdown",
   "metadata": {},
   "source": [
    "## create a sheet that aggregate all the depature and destination data "
   ]
  },
  {
   "cell_type": "code",
   "execution_count": 242,
   "metadata": {},
   "outputs": [
    {
     "data": {
      "text/html": [
       "<div>\n",
       "<style scoped>\n",
       "    .dataframe tbody tr th:only-of-type {\n",
       "        vertical-align: middle;\n",
       "    }\n",
       "\n",
       "    .dataframe tbody tr th {\n",
       "        vertical-align: top;\n",
       "    }\n",
       "\n",
       "    .dataframe thead th {\n",
       "        text-align: right;\n",
       "    }\n",
       "</style>\n",
       "<table border=\"1\" class=\"dataframe\">\n",
       "  <thead>\n",
       "    <tr style=\"text-align: right;\">\n",
       "      <th></th>\n",
       "      <th>departure</th>\n",
       "      <th>destination</th>\n",
       "      <th>distance</th>\n",
       "    </tr>\n",
       "  </thead>\n",
       "  <tbody>\n",
       "    <tr>\n",
       "      <th>0</th>\n",
       "      <td>苹果园</td>\n",
       "      <td>古城</td>\n",
       "      <td>2606</td>\n",
       "    </tr>\n",
       "    <tr>\n",
       "      <th>1</th>\n",
       "      <td>古城</td>\n",
       "      <td>八角游乐园</td>\n",
       "      <td>1921</td>\n",
       "    </tr>\n",
       "    <tr>\n",
       "      <th>2</th>\n",
       "      <td>八角游乐园</td>\n",
       "      <td>八宝山</td>\n",
       "      <td>1953</td>\n",
       "    </tr>\n",
       "    <tr>\n",
       "      <th>3</th>\n",
       "      <td>八宝山</td>\n",
       "      <td>玉泉路</td>\n",
       "      <td>1479</td>\n",
       "    </tr>\n",
       "    <tr>\n",
       "      <th>4</th>\n",
       "      <td>玉泉路</td>\n",
       "      <td>五棵松</td>\n",
       "      <td>1810</td>\n",
       "    </tr>\n",
       "    <tr>\n",
       "      <th>5</th>\n",
       "      <td>五棵松</td>\n",
       "      <td>万寿路</td>\n",
       "      <td>1778</td>\n",
       "    </tr>\n",
       "    <tr>\n",
       "      <th>6</th>\n",
       "      <td>万寿路</td>\n",
       "      <td>公主坟</td>\n",
       "      <td>1313</td>\n",
       "    </tr>\n",
       "    <tr>\n",
       "      <th>7</th>\n",
       "      <td>公主坟</td>\n",
       "      <td>军事博物馆</td>\n",
       "      <td>1172</td>\n",
       "    </tr>\n",
       "    <tr>\n",
       "      <th>8</th>\n",
       "      <td>军事博物馆</td>\n",
       "      <td>木樨地</td>\n",
       "      <td>1166</td>\n",
       "    </tr>\n",
       "    <tr>\n",
       "      <th>9</th>\n",
       "      <td>木樨地</td>\n",
       "      <td>南礼士路</td>\n",
       "      <td>1291</td>\n",
       "    </tr>\n",
       "    <tr>\n",
       "      <th>10</th>\n",
       "      <td>南礼士路</td>\n",
       "      <td>复兴门</td>\n",
       "      <td>424</td>\n",
       "    </tr>\n",
       "    <tr>\n",
       "      <th>11</th>\n",
       "      <td>复兴门</td>\n",
       "      <td>西单</td>\n",
       "      <td>1590</td>\n",
       "    </tr>\n",
       "    <tr>\n",
       "      <th>12</th>\n",
       "      <td>西单</td>\n",
       "      <td>天安门西</td>\n",
       "      <td>1217</td>\n",
       "    </tr>\n",
       "    <tr>\n",
       "      <th>13</th>\n",
       "      <td>天安门西</td>\n",
       "      <td>天安门东</td>\n",
       "      <td>925</td>\n",
       "    </tr>\n",
       "    <tr>\n",
       "      <th>14</th>\n",
       "      <td>天安门东</td>\n",
       "      <td>王府井</td>\n",
       "      <td>852</td>\n",
       "    </tr>\n",
       "    <tr>\n",
       "      <th>15</th>\n",
       "      <td>王府井</td>\n",
       "      <td>东单</td>\n",
       "      <td>774</td>\n",
       "    </tr>\n",
       "    <tr>\n",
       "      <th>16</th>\n",
       "      <td>东单</td>\n",
       "      <td>建国门</td>\n",
       "      <td>1230</td>\n",
       "    </tr>\n",
       "    <tr>\n",
       "      <th>17</th>\n",
       "      <td>建国门</td>\n",
       "      <td>永安里</td>\n",
       "      <td>1377</td>\n",
       "    </tr>\n",
       "    <tr>\n",
       "      <th>18</th>\n",
       "      <td>永安里</td>\n",
       "      <td>国贸</td>\n",
       "      <td>790</td>\n",
       "    </tr>\n",
       "    <tr>\n",
       "      <th>19</th>\n",
       "      <td>国贸</td>\n",
       "      <td>大望路</td>\n",
       "      <td>1385</td>\n",
       "    </tr>\n",
       "    <tr>\n",
       "      <th>20</th>\n",
       "      <td>大望路</td>\n",
       "      <td>四惠</td>\n",
       "      <td>1673</td>\n",
       "    </tr>\n",
       "    <tr>\n",
       "      <th>21</th>\n",
       "      <td>四惠</td>\n",
       "      <td>四惠东</td>\n",
       "      <td>1714</td>\n",
       "    </tr>\n",
       "    <tr>\n",
       "      <th>0</th>\n",
       "      <td>古城</td>\n",
       "      <td>苹果园</td>\n",
       "      <td>2606</td>\n",
       "    </tr>\n",
       "    <tr>\n",
       "      <th>1</th>\n",
       "      <td>八角游乐园</td>\n",
       "      <td>古城</td>\n",
       "      <td>1921</td>\n",
       "    </tr>\n",
       "    <tr>\n",
       "      <th>2</th>\n",
       "      <td>八宝山</td>\n",
       "      <td>八角游乐园</td>\n",
       "      <td>1953</td>\n",
       "    </tr>\n",
       "    <tr>\n",
       "      <th>3</th>\n",
       "      <td>玉泉路</td>\n",
       "      <td>八宝山</td>\n",
       "      <td>1479</td>\n",
       "    </tr>\n",
       "    <tr>\n",
       "      <th>4</th>\n",
       "      <td>五棵松</td>\n",
       "      <td>玉泉路</td>\n",
       "      <td>1810</td>\n",
       "    </tr>\n",
       "    <tr>\n",
       "      <th>5</th>\n",
       "      <td>万寿路</td>\n",
       "      <td>五棵松</td>\n",
       "      <td>1778</td>\n",
       "    </tr>\n",
       "    <tr>\n",
       "      <th>6</th>\n",
       "      <td>公主坟</td>\n",
       "      <td>万寿路</td>\n",
       "      <td>1313</td>\n",
       "    </tr>\n",
       "    <tr>\n",
       "      <th>7</th>\n",
       "      <td>军事博物馆</td>\n",
       "      <td>公主坟</td>\n",
       "      <td>1172</td>\n",
       "    </tr>\n",
       "    <tr>\n",
       "      <th>8</th>\n",
       "      <td>木樨地</td>\n",
       "      <td>军事博物馆</td>\n",
       "      <td>1166</td>\n",
       "    </tr>\n",
       "    <tr>\n",
       "      <th>9</th>\n",
       "      <td>南礼士路</td>\n",
       "      <td>木樨地</td>\n",
       "      <td>1291</td>\n",
       "    </tr>\n",
       "    <tr>\n",
       "      <th>10</th>\n",
       "      <td>复兴门</td>\n",
       "      <td>南礼士路</td>\n",
       "      <td>424</td>\n",
       "    </tr>\n",
       "    <tr>\n",
       "      <th>11</th>\n",
       "      <td>西单</td>\n",
       "      <td>复兴门</td>\n",
       "      <td>1590</td>\n",
       "    </tr>\n",
       "    <tr>\n",
       "      <th>12</th>\n",
       "      <td>天安门西</td>\n",
       "      <td>西单</td>\n",
       "      <td>1217</td>\n",
       "    </tr>\n",
       "    <tr>\n",
       "      <th>13</th>\n",
       "      <td>天安门东</td>\n",
       "      <td>天安门西</td>\n",
       "      <td>925</td>\n",
       "    </tr>\n",
       "    <tr>\n",
       "      <th>14</th>\n",
       "      <td>王府井</td>\n",
       "      <td>天安门东</td>\n",
       "      <td>852</td>\n",
       "    </tr>\n",
       "    <tr>\n",
       "      <th>15</th>\n",
       "      <td>东单</td>\n",
       "      <td>王府井</td>\n",
       "      <td>774</td>\n",
       "    </tr>\n",
       "    <tr>\n",
       "      <th>16</th>\n",
       "      <td>建国门</td>\n",
       "      <td>东单</td>\n",
       "      <td>1230</td>\n",
       "    </tr>\n",
       "    <tr>\n",
       "      <th>17</th>\n",
       "      <td>永安里</td>\n",
       "      <td>建国门</td>\n",
       "      <td>1377</td>\n",
       "    </tr>\n",
       "  </tbody>\n",
       "</table>\n",
       "</div>"
      ],
      "text/plain": [
       "   departure destination distance\n",
       "0        苹果园          古城     2606\n",
       "1         古城       八角游乐园     1921\n",
       "2      八角游乐园         八宝山     1953\n",
       "3        八宝山         玉泉路     1479\n",
       "4        玉泉路         五棵松     1810\n",
       "5        五棵松         万寿路     1778\n",
       "6        万寿路         公主坟     1313\n",
       "7        公主坟       军事博物馆     1172\n",
       "8      军事博物馆         木樨地     1166\n",
       "9        木樨地        南礼士路     1291\n",
       "10      南礼士路         复兴门      424\n",
       "11       复兴门          西单     1590\n",
       "12        西单        天安门西     1217\n",
       "13      天安门西        天安门东      925\n",
       "14      天安门东         王府井      852\n",
       "15       王府井          东单      774\n",
       "16        东单         建国门     1230\n",
       "17       建国门         永安里     1377\n",
       "18       永安里          国贸      790\n",
       "19        国贸         大望路     1385\n",
       "20       大望路          四惠     1673\n",
       "21        四惠         四惠东     1714\n",
       "0         古城         苹果园     2606\n",
       "1      八角游乐园          古城     1921\n",
       "2        八宝山       八角游乐园     1953\n",
       "3        玉泉路         八宝山     1479\n",
       "4        五棵松         玉泉路     1810\n",
       "5        万寿路         五棵松     1778\n",
       "6        公主坟         万寿路     1313\n",
       "7      军事博物馆         公主坟     1172\n",
       "8        木樨地       军事博物馆     1166\n",
       "9       南礼士路         木樨地     1291\n",
       "10       复兴门        南礼士路      424\n",
       "11        西单         复兴门     1590\n",
       "12      天安门西          西单     1217\n",
       "13      天安门东        天安门西      925\n",
       "14       王府井        天安门东      852\n",
       "15        东单         王府井      774\n",
       "16       建国门          东单     1230\n",
       "17       永安里         建国门     1377"
      ]
     },
     "execution_count": 242,
     "metadata": {},
     "output_type": "execute_result"
    }
   ],
   "source": [
    "distances_data_df.head(40)"
   ]
  },
  {
   "cell_type": "code",
   "execution_count": 243,
   "metadata": {},
   "outputs": [
    {
     "data": {
      "text/plain": [
       "Index(['departure', 'destination', 'distance'], dtype='object')"
      ]
     },
     "execution_count": 243,
     "metadata": {},
     "output_type": "execute_result"
    }
   ],
   "source": [
    "distances_data_df.columns"
   ]
  },
  {
   "cell_type": "code",
   "execution_count": 244,
   "metadata": {},
   "outputs": [
    {
     "data": {
      "text/html": [
       "<div>\n",
       "<style scoped>\n",
       "    .dataframe tbody tr th:only-of-type {\n",
       "        vertical-align: middle;\n",
       "    }\n",
       "\n",
       "    .dataframe tbody tr th {\n",
       "        vertical-align: top;\n",
       "    }\n",
       "\n",
       "    .dataframe thead th {\n",
       "        text-align: right;\n",
       "    }\n",
       "</style>\n",
       "<table border=\"1\" class=\"dataframe\">\n",
       "  <thead>\n",
       "    <tr style=\"text-align: right;\">\n",
       "      <th></th>\n",
       "      <th>departure</th>\n",
       "      <th>destination</th>\n",
       "      <th>distance</th>\n",
       "    </tr>\n",
       "  </thead>\n",
       "  <tbody>\n",
       "    <tr>\n",
       "      <th>count</th>\n",
       "      <td>660</td>\n",
       "      <td>660</td>\n",
       "      <td>660</td>\n",
       "    </tr>\n",
       "    <tr>\n",
       "      <th>unique</th>\n",
       "      <td>288</td>\n",
       "      <td>288</td>\n",
       "      <td>290</td>\n",
       "    </tr>\n",
       "    <tr>\n",
       "      <th>top</th>\n",
       "      <td>三元桥</td>\n",
       "      <td>三元桥</td>\n",
       "      <td>1100</td>\n",
       "    </tr>\n",
       "    <tr>\n",
       "      <th>freq</th>\n",
       "      <td>5</td>\n",
       "      <td>5</td>\n",
       "      <td>8</td>\n",
       "    </tr>\n",
       "  </tbody>\n",
       "</table>\n",
       "</div>"
      ],
      "text/plain": [
       "       departure destination distance\n",
       "count        660         660      660\n",
       "unique       288         288      290\n",
       "top          三元桥         三元桥     1100\n",
       "freq           5           5        8"
      ]
     },
     "execution_count": 244,
     "metadata": {},
     "output_type": "execute_result"
    }
   ],
   "source": [
    "distances_data_df.describe()"
   ]
  },
  {
   "cell_type": "markdown",
   "metadata": {},
   "source": [
    "## put station info into dictionary \n",
    "We use dictionary, so there won't be repetition. We find the neighbor stations for every station. Neighbor station is indirectly defined from the distance data -- if there is no distances between two stations, they are not immediately linked by any subway lines.   \n",
    "We see that there are 288 city_connection keys. That is consistent with the distance_data_df dataframe which indicates 288 unique departure or destination station. "
   ]
  },
  {
   "cell_type": "code",
   "execution_count": 245,
   "metadata": {},
   "outputs": [],
   "source": [
    "from collections import defaultdict\n",
    "city_connection = defaultdict(list)"
   ]
  },
  {
   "cell_type": "code",
   "execution_count": 246,
   "metadata": {},
   "outputs": [
    {
     "data": {
      "text/plain": [
       "defaultdict(list, {})"
      ]
     },
     "execution_count": 246,
     "metadata": {},
     "output_type": "execute_result"
    }
   ],
   "source": [
    "city_connection"
   ]
  },
  {
   "cell_type": "code",
   "execution_count": 247,
   "metadata": {},
   "outputs": [],
   "source": [
    "for i,row in distances_data_df.iterrows():                \n",
    "    city_connection[row['destination']].append(row['departure'])\n",
    "    city_connection[row['departure']].append(row['destination'])\n",
    "    "
   ]
  },
  {
   "cell_type": "code",
   "execution_count": 257,
   "metadata": {},
   "outputs": [
    {
     "data": {
      "text/plain": [
       "288"
      ]
     },
     "execution_count": 257,
     "metadata": {},
     "output_type": "execute_result"
    }
   ],
   "source": [
    "len(city_connection)"
   ]
  },
  {
   "cell_type": "code",
   "execution_count": 258,
   "metadata": {},
   "outputs": [
    {
     "data": {
      "text/plain": [
       "10"
      ]
     },
     "execution_count": 258,
     "metadata": {},
     "output_type": "execute_result"
    }
   ],
   "source": [
    "len(city_connection['三元桥'])"
   ]
  },
  {
   "cell_type": "code",
   "execution_count": 248,
   "metadata": {},
   "outputs": [
    {
     "data": {
      "text/plain": [
       "defaultdict(list,\n",
       "            {'古城': ['苹果园', '八角游乐园', '苹果园', '八角游乐园'],\n",
       "             '苹果园': ['古城', '古城'],\n",
       "             '八角游乐园': ['古城', '八宝山', '古城', '八宝山'],\n",
       "             '八宝山': ['八角游乐园', '玉泉路', '八角游乐园', '玉泉路'],\n",
       "             '玉泉路': ['八宝山', '五棵松', '八宝山', '五棵松'],\n",
       "             '五棵松': ['玉泉路', '万寿路', '玉泉路', '万寿路'],\n",
       "             '万寿路': ['五棵松', '公主坟', '五棵松', '公主坟'],\n",
       "             '公主坟': ['万寿路',\n",
       "              '军事博物馆',\n",
       "              '万寿路',\n",
       "              '军事博物馆',\n",
       "              '莲花桥',\n",
       "              '西钓鱼台',\n",
       "              '莲花桥',\n",
       "              '西钓鱼台'],\n",
       "             '军事博物馆': ['公主坟',\n",
       "              '木樨地',\n",
       "              '公主坟',\n",
       "              '木樨地',\n",
       "              '白堆子',\n",
       "              '北京西站',\n",
       "              '白堆子',\n",
       "              '北京西站'],\n",
       "             '木樨地': ['军事博物馆', '南礼士路', '军事博物馆', '南礼士路'],\n",
       "             '南礼士路': ['木樨地', '复兴门', '木樨地', '复兴门'],\n",
       "             '复兴门': ['南礼士路', '西单', '南礼士路', '西单', '阜成门', '长椿街', '阜成门', '长椿街'],\n",
       "             '西单': ['复兴门',\n",
       "              '天安门西',\n",
       "              '复兴门',\n",
       "              '天安门西',\n",
       "              '灵境胡同',\n",
       "              '宣武门',\n",
       "              '灵境胡同',\n",
       "              '宣武门'],\n",
       "             '天安门西': ['西单', '天安门东', '西单', '天安门东'],\n",
       "             '天安门东': ['天安门西', '王府井', '天安门西', '王府井'],\n",
       "             '王府井': ['天安门东', '东单', '天安门东', '东单'],\n",
       "             '东单': ['王府井', '建国门', '王府井', '建国门', '灯市口', '崇文门', '灯市口', '崇文门'],\n",
       "             '建国门': ['东单', '永安里', '东单', '永安里', '北京站', '朝阳门', '北京站', '朝阳门'],\n",
       "             '永安里': ['建国门', '国贸', '建国门', '国贸'],\n",
       "             '国贸': ['永安里', '大望路', '永安里', '大望路', '金台夕照', '双井', '金台夕照', '双井'],\n",
       "             '大望路': ['国贸', '四惠', '国贸', '四惠', '九龙山', '红庙', '九龙山', '红庙'],\n",
       "             '四惠': ['大望路', '四惠东', '大望路', '四惠东', '四惠东', '四惠东'],\n",
       "             '四惠东': ['四惠', '四惠', '四惠', '高碑店', '四惠', '高碑店'],\n",
       "             '车公庄': ['西直门', '阜成门', '西直门', '阜成门', '车公庄西', '平安里', '车公庄西', '平安里'],\n",
       "             '西直门': ['车公庄',\n",
       "              '积水潭',\n",
       "              '车公庄',\n",
       "              '积水潭',\n",
       "              '动物园',\n",
       "              '新街口',\n",
       "              '动物园',\n",
       "              '新街口',\n",
       "              '大钟寺',\n",
       "              '大钟寺'],\n",
       "             '阜成门': ['车公庄', '复兴门', '车公庄', '复兴门'],\n",
       "             '长椿街': ['复兴门', '宣武门', '复兴门', '宣武门'],\n",
       "             '宣武门': ['长椿街', '和平门', '长椿街', '和平门', '西单', '菜市口', '西单', '菜市口'],\n",
       "             '和平门': ['宣武门', '前门', '宣武门', '前门'],\n",
       "             '前门': ['和平门', '崇文门', '和平门', '崇文门'],\n",
       "             '崇文门': ['前门', '北京站', '前门', '北京站', '东单', '磁器口', '东单', '磁器口'],\n",
       "             '北京站': ['崇文门', '建国门', '崇文门', '建国门'],\n",
       "             '朝阳门': ['建国门', '东四十条', '建国门', '东四十条', '东四', '东大桥', '东四', '东大桥'],\n",
       "             '东四十条': ['朝阳门', '东直门', '朝阳门', '东直门'],\n",
       "             '东直门': ['东四十条', '雍和宫', '东四十条', '雍和宫', '柳芳', '柳芳', '三元桥', '三元桥'],\n",
       "             '雍和宫': ['东直门',\n",
       "              '安定门',\n",
       "              '东直门',\n",
       "              '安定门',\n",
       "              '和平里北街',\n",
       "              '北新桥',\n",
       "              '和平里北街',\n",
       "              '北新桥'],\n",
       "             '安定门': ['雍和宫', '鼓楼大街', '雍和宫', '鼓楼大街'],\n",
       "             '鼓楼大街': ['安定门',\n",
       "              '积水潭',\n",
       "              '安定门',\n",
       "              '积水潭',\n",
       "              '安德里北街',\n",
       "              '什刹海',\n",
       "              '安德里北街',\n",
       "              '什刹海'],\n",
       "             '积水潭': ['鼓楼大街', '西直门', '鼓楼大街', '西直门'],\n",
       "             '北宫门': ['安河桥北', '西苑', '安河桥北', '西苑'],\n",
       "             '安河桥北': ['北宫门', '北宫门'],\n",
       "             '西苑': ['北宫门', '圆明园', '北宫门', '圆明园'],\n",
       "             '圆明园': ['西苑', '北京大学东门', '西苑', '北京大学东门'],\n",
       "             '北京大学东门': ['圆明园', '中关村', '圆明园', '中关村'],\n",
       "             '中关村': ['北京大学东门', '海淀黄庄', '北京大学东门', '海淀黄庄'],\n",
       "             '海淀黄庄': ['中关村',\n",
       "              '人民大学',\n",
       "              '中关村',\n",
       "              '人民大学',\n",
       "              '苏州街',\n",
       "              '知春里',\n",
       "              '苏州街',\n",
       "              '知春里'],\n",
       "             '人民大学': ['海淀黄庄', '魏公村', '海淀黄庄', '魏公村'],\n",
       "             '魏公村': ['人民大学', '国家图书馆', '人民大学', '国家图书馆'],\n",
       "             '国家图书馆': ['魏公村', '动物园', '魏公村', '动物园', '白石桥南', '白石桥南'],\n",
       "             '动物园': ['国家图书馆', '西直门', '国家图书馆', '西直门'],\n",
       "             '新街口': ['西直门', '平安里', '西直门', '平安里'],\n",
       "             '平安里': ['新街口', '西四', '新街口', '西四', '车公庄', '北海北', '车公庄', '北海北'],\n",
       "             '西四': ['平安里', '灵境胡同', '平安里', '灵境胡同'],\n",
       "             '灵境胡同': ['西四', '西单', '西四', '西单'],\n",
       "             '菜市口': ['宣武门', '陶然亭', '宣武门', '陶然亭', '广安门内', '虎坊桥', '广安门内', '虎坊桥'],\n",
       "             '陶然亭': ['菜市口', '北京南站', '菜市口', '北京南站'],\n",
       "             '北京南站': ['陶然亭', '马家堡', '陶然亭', '马家堡', '陶然桥', '陶然桥'],\n",
       "             '马家堡': ['北京南站', '角门西', '北京南站', '角门西'],\n",
       "             '角门西': ['马家堡', '公益西桥', '马家堡', '公益西桥', '角门东', '草桥', '角门东', '草桥'],\n",
       "             '公益西桥': ['角门西', '角门西', '新宫', '新宫'],\n",
       "             '天通苑': ['天通苑北', '天通苑南', '天通苑北', '天通苑南'],\n",
       "             '天通苑北': ['天通苑', '天通苑'],\n",
       "             '天通苑南': ['天通苑', '立水桥', '天通苑', '立水桥'],\n",
       "             '立水桥': ['天通苑南', '立水桥南', '天通苑南', '立水桥南', '霍营', '北苑', '霍营', '北苑'],\n",
       "             '立水桥南': ['立水桥', '北苑路北', '立水桥', '北苑路北'],\n",
       "             '北苑路北': ['立水桥南', '大屯路东', '立水桥南', '大屯路东'],\n",
       "             '大屯路东': ['北苑路北',\n",
       "              '惠新西街北口',\n",
       "              '北苑路北',\n",
       "              '惠新西街北口',\n",
       "              '安立路',\n",
       "              '关庄',\n",
       "              '安立路',\n",
       "              '关庄'],\n",
       "             '惠新西街北口': ['大屯路东', '惠新西街南口', '大屯路东', '惠新西街南口'],\n",
       "             '惠新西街南口': ['惠新西街北口',\n",
       "              '和平西桥',\n",
       "              '惠新西街北口',\n",
       "              '和平西桥',\n",
       "              '安贞门',\n",
       "              '芍药居',\n",
       "              '安贞门',\n",
       "              '芍药居'],\n",
       "             '和平西桥': ['惠新西街南口', '和平里北街', '惠新西街南口', '和平里北街'],\n",
       "             '和平里北街': ['和平西桥', '雍和宫', '和平西桥', '雍和宫'],\n",
       "             '北新桥': ['雍和宫', '张自忠路', '雍和宫', '张自忠路'],\n",
       "             '张自忠路': ['北新桥', '东四', '北新桥', '东四'],\n",
       "             '东四': ['张自忠路',\n",
       "              '灯市口',\n",
       "              '张自忠路',\n",
       "              '灯市口',\n",
       "              '南锣鼓巷',\n",
       "              '朝阳门',\n",
       "              '南锣鼓巷',\n",
       "              '朝阳门'],\n",
       "             '灯市口': ['东四', '东单', '东四', '东单'],\n",
       "             '磁器口': ['崇文门', '天坛东门', '崇文门', '天坛东门', '桥湾', '广渠门内', '桥湾', '广渠门内'],\n",
       "             '天坛东门': ['磁器口', '蒲黄榆', '磁器口', '蒲黄榆'],\n",
       "             '蒲黄榆': ['天坛东门', '刘家窑', '天坛东门', '刘家窑', '景泰', '方庄', '景泰', '方庄'],\n",
       "             '刘家窑': ['蒲黄榆', '宋家庄', '蒲黄榆', '宋家庄'],\n",
       "             '宋家庄': ['刘家窑', '刘家窑', '成寿寺', '石榴庄', '成寿寺', '石榴庄', '肖村', '肖村'],\n",
       "             '慈寿寺': ['海淀五路居',\n",
       "              '花园桥',\n",
       "              '海淀五路居',\n",
       "              '花园桥',\n",
       "              '西钓鱼台',\n",
       "              '车道沟',\n",
       "              '西钓鱼台',\n",
       "              '车道沟'],\n",
       "             '海淀五路居': ['慈寿寺', '慈寿寺'],\n",
       "             '花园桥': ['慈寿寺', '白石桥南', '慈寿寺', '白石桥南'],\n",
       "             '白石桥南': ['花园桥',\n",
       "              '车公庄西',\n",
       "              '花园桥',\n",
       "              '车公庄西',\n",
       "              '国家图书馆',\n",
       "              '白堆子',\n",
       "              '国家图书馆',\n",
       "              '白堆子'],\n",
       "             '车公庄西': ['白石桥南', '车公庄', '白石桥南', '车公庄'],\n",
       "             '北海北': ['平安里', '南锣鼓巷', '平安里', '南锣鼓巷'],\n",
       "             '南锣鼓巷': ['北海北', '东四', '北海北', '东四', '什刹海', '什刹海'],\n",
       "             '东大桥': ['朝阳门', '呼家楼', '朝阳门', '呼家楼'],\n",
       "             '呼家楼': ['东大桥', '金台路', '东大桥', '金台路', '团结湖', '金台夕照', '团结湖', '金台夕照'],\n",
       "             '金台路': ['呼家楼', '十里堡', '呼家楼', '十里堡', '红庙', '朝阳公园', '红庙', '朝阳公园'],\n",
       "             '十里堡': ['金台路', '青年路', '金台路', '青年路'],\n",
       "             '青年路': ['十里堡', '褡裢坡', '十里堡', '褡裢坡'],\n",
       "             '褡裢坡': ['青年路', '黄渠', '青年路', '黄渠'],\n",
       "             '黄渠': ['褡裢坡', '常营', '褡裢坡', '常营'],\n",
       "             '常营': ['黄渠', '草房', '黄渠', '草房'],\n",
       "             '草房': ['常营', '物资学院路', '常营', '物资学院路'],\n",
       "             '物资学院路': ['草房', '通州北关', '草房', '通州北关'],\n",
       "             '通州北关': ['物资学院路', '通运门', '物资学院路', '通运门'],\n",
       "             '通运门': ['通州北关', '北运河西', '通州北关', '北运河西'],\n",
       "             '北运河西': ['通运门', '北运河东', '通运门', '北运河东'],\n",
       "             '北运河东': ['北运河西', '郝家府', '北运河西', '郝家府'],\n",
       "             '郝家府': ['北运河东', '东夏园', '北运河东', '东夏园'],\n",
       "             '东夏园': ['郝家府', '潞城', '郝家府', '潞城'],\n",
       "             '潞城': ['东夏园', '东夏园'],\n",
       "             '育知路': ['朱辛庄', '平西府', '朱辛庄', '平西府'],\n",
       "             '朱辛庄': ['育知路', '育知路', '巩华城', '生命科学园', '巩华城', '生命科学园'],\n",
       "             '平西府': ['育知路', '回龙观东大街', '育知路', '回龙观东大街'],\n",
       "             '回龙观东大街': ['平西府', '霍营', '平西府', '霍营'],\n",
       "             '霍营': ['回龙观东大街',\n",
       "              '育新',\n",
       "              '回龙观东大街',\n",
       "              '育新',\n",
       "              '回龙观',\n",
       "              '立水桥',\n",
       "              '回龙观',\n",
       "              '立水桥'],\n",
       "             '育新': ['霍营', '西小口', '霍营', '西小口'],\n",
       "             '西小口': ['育新', '永泰庄', '育新', '永泰庄'],\n",
       "             '永泰庄': ['西小口', '林萃桥', '西小口', '林萃桥'],\n",
       "             '林萃桥': ['永泰庄', '森林公园南门', '永泰庄', '森林公园南门'],\n",
       "             '森林公园南门': ['林萃桥', '奥林匹克公园', '林萃桥', '奥林匹克公园'],\n",
       "             '奥林匹克公园': ['森林公园南门',\n",
       "              '奥体中心',\n",
       "              '森林公园南门',\n",
       "              '奥体中心',\n",
       "              '北沙滩',\n",
       "              '安立路',\n",
       "              '北沙滩',\n",
       "              '安立路'],\n",
       "             '奥体中心': ['奥林匹克公园', '北土城', '奥林匹克公园', '北土城'],\n",
       "             '北土城': ['奥体中心', '安华桥', '奥体中心', '安华桥', '健德门', '安贞门', '健德门', '安贞门'],\n",
       "             '安华桥': ['北土城', '安德里北街', '北土城', '安德里北街'],\n",
       "             '安德里北街': ['安华桥', '鼓楼大街', '安华桥', '鼓楼大街'],\n",
       "             '什刹海': ['鼓楼大街', '南锣鼓巷', '鼓楼大街', '南锣鼓巷'],\n",
       "             '白堆子': ['白石桥南', '军事博物馆', '白石桥南', '军事博物馆'],\n",
       "             '北京西站': ['军事博物馆', '六里桥东', '军事博物馆', '六里桥东', '湾子', '湾子'],\n",
       "             '六里桥东': ['北京西站', '六里桥', '北京西站', '六里桥'],\n",
       "             '六里桥': ['六里桥东', '七里庄', '六里桥东', '七里庄', '西局', '莲花桥', '西局', '莲花桥'],\n",
       "             '七里庄': ['六里桥', '丰台东大街', '六里桥', '丰台东大街', '大井', '西局', '大井', '西局'],\n",
       "             '丰台东大街': ['七里庄', '丰台南路', '七里庄', '丰台南路'],\n",
       "             '丰台南路': ['丰台东大街', '科怡路', '丰台东大街', '科怡路'],\n",
       "             '科怡路': ['丰台南路', '丰台科技园', '丰台南路', '丰台科技园'],\n",
       "             '丰台科技园': ['科怡路', '郭公庄', '科怡路', '郭公庄'],\n",
       "             '郭公庄': ['丰台科技园', '丰台科技园', '大葆台', '大葆台'],\n",
       "             '苏州街': ['巴沟', '海淀黄庄', '巴沟', '海淀黄庄'],\n",
       "             '巴沟': ['苏州街', '火器营', '苏州街', '火器营'],\n",
       "             '知春里': ['海淀黄庄', '知春路', '海淀黄庄', '知春路'],\n",
       "             '知春路': ['知春里', '西土城', '知春里', '西土城', '大钟寺', '五道口', '大钟寺', '五道口'],\n",
       "             '西土城': ['知春路', '牡丹园', '知春路', '牡丹园'],\n",
       "             '牡丹园': ['西土城', '健德门', '西土城', '健德门'],\n",
       "             '健德门': ['牡丹园', '北土城', '牡丹园', '北土城'],\n",
       "             '安贞门': ['北土城', '惠新西街南口', '北土城', '惠新西街南口'],\n",
       "             '芍药居': ['惠新西街南口',\n",
       "              '太阳宫',\n",
       "              '惠新西街南口',\n",
       "              '太阳宫',\n",
       "              '望京西',\n",
       "              '光熙门',\n",
       "              '望京西',\n",
       "              '光熙门'],\n",
       "             '太阳宫': ['芍药居', '三元桥', '芍药居', '三元桥'],\n",
       "             '三元桥': ['太阳宫',\n",
       "              '亮马桥',\n",
       "              '太阳宫',\n",
       "              '亮马桥',\n",
       "              '东直门',\n",
       "              'T3航站楼',\n",
       "              'T2航站楼',\n",
       "              '东直门',\n",
       "              'T3航站楼',\n",
       "              'T2航站楼'],\n",
       "             '亮马桥': ['三元桥', '农业展览馆', '三元桥', '农业展览馆'],\n",
       "             '农业展览馆': ['亮马桥', '团结湖', '亮马桥', '团结湖'],\n",
       "             '团结湖': ['农业展览馆', '呼家楼', '农业展览馆', '呼家楼'],\n",
       "             '金台夕照': ['呼家楼', '国贸', '呼家楼', '国贸'],\n",
       "             '双井': ['国贸', '劲松', '国贸', '劲松', '广渠门外', '九龙山', '广渠门外', '九龙山'],\n",
       "             '劲松': ['双井', '潘家园', '双井', '潘家园'],\n",
       "             '潘家园': ['劲松', '十里河', '劲松', '十里河'],\n",
       "             '十里河': ['潘家园', '分钟寺', '潘家园', '分钟寺', '方庄', '南八里庄', '方庄', '南八里庄'],\n",
       "             '分钟寺': ['十里河', '成寿寺', '十里河', '成寿寺'],\n",
       "             '成寿寺': ['分钟寺', '宋家庄', '分钟寺', '宋家庄'],\n",
       "             '石榴庄': ['宋家庄', '大红门', '宋家庄', '大红门'],\n",
       "             '大红门': ['石榴庄', '角门东', '石榴庄', '角门东'],\n",
       "             '角门东': ['大红门', '角门西', '大红门', '角门西'],\n",
       "             '草桥': ['角门西', '纪家庙', '角门西', '纪家庙'],\n",
       "             '纪家庙': ['草桥', '首经贸', '草桥', '首经贸'],\n",
       "             '首经贸': ['纪家庙', '丰台站', '纪家庙', '丰台站'],\n",
       "             '丰台站': ['首经贸', '泥洼', '首经贸', '泥洼'],\n",
       "             '泥洼': ['丰台站', '西局', '丰台站', '西局'],\n",
       "             '西局': ['泥洼', '六里桥', '泥洼', '六里桥', '七里庄', '七里庄'],\n",
       "             '莲花桥': ['六里桥', '公主坟', '六里桥', '公主坟'],\n",
       "             '西钓鱼台': ['公主坟', '慈寿寺', '公主坟', '慈寿寺'],\n",
       "             '车道沟': ['慈寿寺', '长春桥', '慈寿寺', '长春桥'],\n",
       "             '长春桥': ['车道沟', '火器营', '车道沟', '火器营'],\n",
       "             '火器营': ['长春桥', '巴沟', '长春桥', '巴沟'],\n",
       "             '大钟寺': ['西直门', '知春路', '西直门', '知春路'],\n",
       "             '五道口': ['知春路', '上地', '知春路', '上地'],\n",
       "             '上地': ['五道口', '西二旗', '五道口', '西二旗'],\n",
       "             '西二旗': ['上地', '龙泽', '上地', '龙泽', '生命科学园', '生命科学园'],\n",
       "             '龙泽': ['西二旗', '回龙观', '西二旗', '回龙观'],\n",
       "             '回龙观': ['龙泽', '霍营', '龙泽', '霍营'],\n",
       "             '北苑': ['立水桥', '望京西', '立水桥', '望京西'],\n",
       "             '望京西': ['北苑', '芍药居', '北苑', '芍药居', '关庄', '望京', '关庄', '望京'],\n",
       "             '光熙门': ['芍药居', '柳芳', '芍药居', '柳芳'],\n",
       "             '柳芳': ['光熙门', '东直门', '光熙门', '东直门'],\n",
       "             '园博园': ['张郭庄', '大瓦窑', '张郭庄', '大瓦窑'],\n",
       "             '张郭庄': ['园博园', '园博园'],\n",
       "             '大瓦窑': ['园博园', '郭庄子', '园博园', '郭庄子'],\n",
       "             '郭庄子': ['大瓦窑', '大井', '大瓦窑', '大井'],\n",
       "             '大井': ['郭庄子', '七里庄', '郭庄子', '七里庄'],\n",
       "             '陶然桥': ['北京南站', '永定门外', '北京南站', '永定门外'],\n",
       "             '永定门外': ['陶然桥', '景泰', '陶然桥', '景泰'],\n",
       "             '景泰': ['永定门外', '蒲黄榆', '永定门外', '蒲黄榆'],\n",
       "             '方庄': ['蒲黄榆', '十里河', '蒲黄榆', '十里河'],\n",
       "             '南八里庄': ['十里河', '北工大西门', '十里河', '北工大西门'],\n",
       "             '北工大西门': ['南八里庄', '平乐园', '南八里庄', '平乐园'],\n",
       "             '平乐园': ['北工大西门', '九龙山', '北工大西门', '九龙山'],\n",
       "             '九龙山': ['平乐园', '大望路', '平乐园', '大望路', '双井', '大郊亭', '双井', '大郊亭'],\n",
       "             '红庙': ['大望路', '金台路', '大望路', '金台路'],\n",
       "             '朝阳公园': ['金台路', '枣营', '金台路', '枣营'],\n",
       "             '枣营': ['朝阳公园', '东风北桥', '朝阳公园', '东风北桥'],\n",
       "             '东风北桥': ['枣营', '将台', '枣营', '将台'],\n",
       "             '将台': ['东风北桥', '高家园', '东风北桥', '高家园'],\n",
       "             '高家园': ['将台', '望京南', '将台', '望京南'],\n",
       "             '望京南': ['高家园', '阜通', '高家园', '阜通'],\n",
       "             '阜通': ['望京南', '望京', '望京南', '望京'],\n",
       "             '望京': ['阜通', '东湖渠', '阜通', '东湖渠', '望京西', '望京东', '望京西', '望京东'],\n",
       "             '东湖渠': ['望京', '来广营', '望京', '来广营'],\n",
       "             '来广营': ['东湖渠', '善各庄', '东湖渠', '善各庄'],\n",
       "             '善各庄': ['来广营', '来广营'],\n",
       "             '六道口': ['清华东路西口', '北沙滩', '清华东路西口', '北沙滩'],\n",
       "             '清华东路西口': ['六道口', '六道口'],\n",
       "             '北沙滩': ['六道口', '奥林匹克公园', '六道口', '奥林匹克公园'],\n",
       "             '安立路': ['奥林匹克公园', '大屯路东', '奥林匹克公园', '大屯路东'],\n",
       "             '关庄': ['大屯路东', '望京西', '大屯路东', '望京西'],\n",
       "             '望京东': ['望京', '崔各庄', '望京', '崔各庄'],\n",
       "             '崔各庄': ['望京东', '马泉营', '望京东', '马泉营'],\n",
       "             '马泉营': ['崔各庄', '孙河', '崔各庄', '孙河'],\n",
       "             '孙河': ['马泉营', '国展', '马泉营', '国展'],\n",
       "             '国展': ['孙河', '花梨坎', '孙河', '花梨坎'],\n",
       "             '花梨坎': ['国展', '后沙峪', '国展', '后沙峪'],\n",
       "             '后沙峪': ['花梨坎', '南法信', '花梨坎', '南法信'],\n",
       "             '南法信': ['后沙峪', '石门', '后沙峪', '石门'],\n",
       "             '石门': ['南法信', '顺义', '南法信', '顺义'],\n",
       "             '顺义': ['石门', '俸伯', '石门', '俸伯'],\n",
       "             '俸伯': ['顺义', '顺义'],\n",
       "             '高碑店': ['四惠东', '传媒大学', '四惠东', '传媒大学'],\n",
       "             '传媒大学': ['高碑店', '双桥', '高碑店', '双桥'],\n",
       "             '双桥': ['传媒大学', '管庄', '传媒大学', '管庄'],\n",
       "             '管庄': ['双桥', '八里桥', '双桥', '八里桥'],\n",
       "             '八里桥': ['管庄', '通州北苑', '管庄', '通州北苑'],\n",
       "             '通州北苑': ['八里桥', '果园', '八里桥', '果园'],\n",
       "             '果园': ['通州北苑', '九棵树', '通州北苑', '九棵树'],\n",
       "             '九棵树': ['果园', '梨园', '果园', '梨园'],\n",
       "             '梨园': ['九棵树', '临河里', '九棵树', '临河里'],\n",
       "             '临河里': ['梨园', '土桥', '梨园', '土桥'],\n",
       "             '土桥': ['临河里', '临河里'],\n",
       "             '十三陵景区': ['昌平西山口', '昌平', '昌平西山口', '昌平'],\n",
       "             '昌平西山口': ['十三陵景区', '十三陵景区'],\n",
       "             '昌平': ['十三陵景区', '昌平东关', '十三陵景区', '昌平东关'],\n",
       "             '昌平东关': ['昌平', '北邵洼', '昌平', '北邵洼'],\n",
       "             '北邵洼': ['昌平东关', '南邵', '昌平东关', '南邵'],\n",
       "             '南邵': ['北邵洼', '沙河高教园', '北邵洼', '沙河高教园'],\n",
       "             '沙河高教园': ['南邵', '沙河', '南邵', '沙河'],\n",
       "             '沙河': ['沙河高教园', '巩华城', '沙河高教园', '巩华城'],\n",
       "             '巩华城': ['沙河', '朱辛庄', '沙河', '朱辛庄'],\n",
       "             '生命科学园': ['朱辛庄', '西二旗', '朱辛庄', '西二旗'],\n",
       "             '肖村': ['宋家庄', '小红门', '宋家庄', '小红门'],\n",
       "             '小红门': ['肖村', '旧宫', '肖村', '旧宫'],\n",
       "             '旧宫': ['小红门', '亦庄桥', '小红门', '亦庄桥'],\n",
       "             '亦庄桥': ['旧宫', '亦庄文化园', '旧宫', '亦庄文化园'],\n",
       "             '亦庄文化园': ['亦庄桥', '万源街', '亦庄桥', '万源街'],\n",
       "             '万源街': ['亦庄文化园', '荣京东街', '亦庄文化园', '荣京东街'],\n",
       "             '荣京东街': ['万源街', '荣昌东街', '万源街', '荣昌东街'],\n",
       "             '荣昌东街': ['荣京东街', '同济南路', '荣京东街', '同济南路'],\n",
       "             '同济南路': ['荣昌东街', '经海路', '荣昌东街', '经海路'],\n",
       "             '经海路': ['同济南路', '次渠南', '同济南路', '次渠南'],\n",
       "             '次渠南': ['经海路', '次渠', '经海路', '次渠'],\n",
       "             '次渠': ['次渠南', '次渠南'],\n",
       "             '新宫': ['公益西桥', '西红门', '公益西桥', '西红门'],\n",
       "             '西红门': ['新宫', '高米店北', '新宫', '高米店北'],\n",
       "             '高米店北': ['西红门', '高米店南', '西红门', '高米店南'],\n",
       "             '高米店南': ['高米店北', '枣园', '高米店北', '枣园'],\n",
       "             '枣园': ['高米店南', '清源路', '高米店南', '清源路'],\n",
       "             '清源路': ['枣园', '黄村西大街', '枣园', '黄村西大街'],\n",
       "             '黄村西大街': ['清源路', '黄村火车站', '清源路', '黄村火车站'],\n",
       "             '黄村火车站': ['黄村西大街', '义和庄', '黄村西大街', '义和庄'],\n",
       "             '义和庄': ['黄村火车站', '生物医药基地', '黄村火车站', '生物医药基地'],\n",
       "             '生物医药基地': ['义和庄', '天宫院', '义和庄', '天宫院'],\n",
       "             '天宫院': ['生物医药基地', '生物医药基地'],\n",
       "             '大葆台': ['郭公庄', '稻田', '郭公庄', '稻田'],\n",
       "             '稻田': ['大葆台', '长阳', '大葆台', '长阳'],\n",
       "             '长阳': ['稻田', '篱笆房', '稻田', '篱笆房'],\n",
       "             '篱笆房': ['长阳', '广阳城', '长阳', '广阳城'],\n",
       "             '广阳城': ['篱笆房', '良乡大学城北', '篱笆房', '良乡大学城北'],\n",
       "             '良乡大学城北': ['广阳城', '良乡大学城', '广阳城', '良乡大学城'],\n",
       "             '良乡大学城': ['良乡大学城北', '良乡大学城西', '良乡大学城北', '良乡大学城西'],\n",
       "             '良乡大学城西': ['良乡大学城', '良乡南关', '良乡大学城', '良乡南关'],\n",
       "             '良乡南关': ['良乡大学城西', '苏庄', '良乡大学城西', '苏庄'],\n",
       "             '苏庄': ['良乡南关', '良乡南关'],\n",
       "             'T3航站楼': ['三元桥', 'T2航站楼', '三元桥', 'T2航站楼'],\n",
       "             'T2航站楼': ['T3航站楼', '三元桥', 'T3航站楼', '三元桥'],\n",
       "             '湾子': ['北京西站', '达官营', '北京西站', '达官营'],\n",
       "             '达官营': ['湾子', '广安门内', '湾子', '广安门内'],\n",
       "             '广安门内': ['达官营', '菜市口', '达官营', '菜市口'],\n",
       "             '虎坊桥': ['菜市口', '珠市口', '菜市口', '珠市口'],\n",
       "             '珠市口': ['虎坊桥', '桥湾', '虎坊桥', '桥湾'],\n",
       "             '桥湾': ['珠市口', '磁器口', '珠市口', '磁器口'],\n",
       "             '广渠门内': ['磁器口', '广渠门外', '磁器口', '广渠门外'],\n",
       "             '广渠门外': ['广渠门内', '双井', '广渠门内', '双井'],\n",
       "             '大郊亭': ['九龙山', '百子湾', '九龙山', '百子湾'],\n",
       "             '百子湾': ['大郊亭', '化工', '大郊亭', '化工'],\n",
       "             '化工': ['百子湾', '南楼梓庄', '百子湾', '南楼梓庄'],\n",
       "             '南楼梓庄': ['化工', '欢乐谷景区', '化工', '欢乐谷景区'],\n",
       "             '欢乐谷景区': ['南楼梓庄', '垡头', '南楼梓庄', '垡头'],\n",
       "             '垡头': ['欢乐谷景区', '双合', '欢乐谷景区', '双合'],\n",
       "             '双合': ['垡头', '焦化厂', '垡头', '焦化厂'],\n",
       "             '焦化厂': ['双合', '双合']})"
      ]
     },
     "execution_count": 248,
     "metadata": {},
     "output_type": "execute_result"
    }
   ],
   "source": [
    "city_connection"
   ]
  },
  {
   "cell_type": "markdown",
   "metadata": {},
   "source": [
    "### bfs algorithm "
   ]
  },
  {
   "cell_type": "code",
   "execution_count": 130,
   "metadata": {},
   "outputs": [],
   "source": [
    "def bfs(graph, start):\n",
    "    \"\"\"\n",
    "    breath first search\n",
    "    \"\"\"\n",
    "    visited = [start]\n",
    "    \n",
    "    seen = set()\n",
    "    \n",
    "    while visited:\n",
    "        frontier = visited.pop() #\n",
    "        \n",
    "        if frontier in seen: continue\n",
    "        \n",
    "        for successor in graph[frontier]:\n",
    "            if successor in seen: continue\n",
    "            #print(successor)\n",
    "            \n",
    "            #visited = visited + [successor] # 我们每次扩展都扩展最新发现的点 -> depth first\n",
    "            visited = [successor] + visited # 我们每次扩展都先考虑已经发现的 老的点 -> breath first\n",
    "            \n",
    "            # 所以说，这个扩展顺序其实是决定了我们的深度优先还是广度优先\n",
    "    \n",
    "        seen.add(frontier)\n",
    "    \n",
    "    return seen"
   ]
  },
  {
   "cell_type": "code",
   "execution_count": 259,
   "metadata": {},
   "outputs": [
    {
     "data": {
      "text/plain": [
       "set"
      ]
     },
     "execution_count": 259,
     "metadata": {},
     "output_type": "execute_result"
    }
   ],
   "source": [
    "type(bfs(city_connection,'欢乐谷景区'))\n",
    "# it found all the stations that can be connected to '欢乐谷景区' so it's quite long. "
   ]
  },
  {
   "cell_type": "markdown",
   "metadata": {},
   "source": [
    "Make sense also to see that this station can be linked to all 288 stations...because we know that this is no subgraph is the subway graph here. "
   ]
  },
  {
   "cell_type": "code",
   "execution_count": 261,
   "metadata": {},
   "outputs": [
    {
     "data": {
      "text/plain": [
       "288"
      ]
     },
     "execution_count": 261,
     "metadata": {},
     "output_type": "execute_result"
    }
   ],
   "source": [
    "len(bfs(city_connection,'欢乐谷景区'))"
   ]
  },
  {
   "cell_type": "markdown",
   "metadata": {},
   "source": [
    "## add a sorting algorithm to pick the shortest "
   ]
  },
  {
   "cell_type": "markdown",
   "metadata": {},
   "source": [
    "### note: not quite understanding how this sorting works "
   ]
  },
  {
   "cell_type": "code",
   "execution_count": 151,
   "metadata": {},
   "outputs": [],
   "source": [
    "def least_stops_first(paths):\n",
    "    \n",
    "    if len(paths) <= 1: return paths\n",
    "    \n",
    "    def get_path_distnace(path):\n",
    "        distance = 0\n",
    "        for station in path[:-1]:\n",
    "            #distance += get_geo_distance(station, path[-1])\n",
    "            distance +=1\n",
    "            #use this to \n",
    "        return distance\n",
    "\n",
    "    return sorted(paths, key=get_path_distnace)"
   ]
  },
  {
   "cell_type": "code",
   "execution_count": 253,
   "metadata": {},
   "outputs": [],
   "source": [
    "def min_distances_first(paths):\n",
    "    \n",
    "    if len(paths) <= 1: return paths\n",
    "    \n",
    "    def get_path_distnace(path):\n",
    "        distance = 0\n",
    "        for station in path[:-1]:\n",
    "            distance += get_between_stop_distance(station, path[-1])\n",
    "            #distance +=1\n",
    "            #use this to \n",
    "        return distance\n",
    "\n",
    "    return sorted(paths, key=get_path_distnace)"
   ]
  },
  {
   "cell_type": "code",
   "execution_count": 154,
   "metadata": {},
   "outputs": [
    {
     "data": {
      "text/html": [
       "<div>\n",
       "<style scoped>\n",
       "    .dataframe tbody tr th:only-of-type {\n",
       "        vertical-align: middle;\n",
       "    }\n",
       "\n",
       "    .dataframe tbody tr th {\n",
       "        vertical-align: top;\n",
       "    }\n",
       "\n",
       "    .dataframe thead th {\n",
       "        text-align: right;\n",
       "    }\n",
       "</style>\n",
       "<table border=\"1\" class=\"dataframe\">\n",
       "  <thead>\n",
       "    <tr style=\"text-align: right;\">\n",
       "      <th></th>\n",
       "      <th>departure</th>\n",
       "      <th>destination</th>\n",
       "      <th>distance</th>\n",
       "    </tr>\n",
       "  </thead>\n",
       "  <tbody>\n",
       "    <tr>\n",
       "      <th>0</th>\n",
       "      <td>苹果园</td>\n",
       "      <td>古城</td>\n",
       "      <td>2606</td>\n",
       "    </tr>\n",
       "    <tr>\n",
       "      <th>1</th>\n",
       "      <td>古城</td>\n",
       "      <td>八角游乐园</td>\n",
       "      <td>1921</td>\n",
       "    </tr>\n",
       "    <tr>\n",
       "      <th>2</th>\n",
       "      <td>八角游乐园</td>\n",
       "      <td>八宝山</td>\n",
       "      <td>1953</td>\n",
       "    </tr>\n",
       "    <tr>\n",
       "      <th>3</th>\n",
       "      <td>八宝山</td>\n",
       "      <td>玉泉路</td>\n",
       "      <td>1479</td>\n",
       "    </tr>\n",
       "    <tr>\n",
       "      <th>4</th>\n",
       "      <td>玉泉路</td>\n",
       "      <td>五棵松</td>\n",
       "      <td>1810</td>\n",
       "    </tr>\n",
       "  </tbody>\n",
       "</table>\n",
       "</div>"
      ],
      "text/plain": [
       "  departure destination distance\n",
       "0       苹果园          古城     2606\n",
       "1        古城       八角游乐园     1921\n",
       "2     八角游乐园         八宝山     1953\n",
       "3       八宝山         玉泉路     1479\n",
       "4       玉泉路         五棵松     1810"
      ]
     },
     "execution_count": 154,
     "metadata": {},
     "output_type": "execute_result"
    }
   ],
   "source": [
    "distances_data_df.head()"
   ]
  },
  {
   "cell_type": "code",
   "execution_count": 168,
   "metadata": {},
   "outputs": [
    {
     "data": {
      "text/html": [
       "<div>\n",
       "<style scoped>\n",
       "    .dataframe tbody tr th:only-of-type {\n",
       "        vertical-align: middle;\n",
       "    }\n",
       "\n",
       "    .dataframe tbody tr th {\n",
       "        vertical-align: top;\n",
       "    }\n",
       "\n",
       "    .dataframe thead th {\n",
       "        text-align: right;\n",
       "    }\n",
       "</style>\n",
       "<table border=\"1\" class=\"dataframe\">\n",
       "  <thead>\n",
       "    <tr style=\"text-align: right;\">\n",
       "      <th></th>\n",
       "      <th>departure</th>\n",
       "      <th>destination</th>\n",
       "      <th>distance</th>\n",
       "    </tr>\n",
       "  </thead>\n",
       "  <tbody>\n",
       "    <tr>\n",
       "      <th>0</th>\n",
       "      <td>苹果园</td>\n",
       "      <td>古城</td>\n",
       "      <td>2606</td>\n",
       "    </tr>\n",
       "    <tr>\n",
       "      <th>1</th>\n",
       "      <td>古城</td>\n",
       "      <td>八角游乐园</td>\n",
       "      <td>1921</td>\n",
       "    </tr>\n",
       "    <tr>\n",
       "      <th>2</th>\n",
       "      <td>八角游乐园</td>\n",
       "      <td>八宝山</td>\n",
       "      <td>1953</td>\n",
       "    </tr>\n",
       "    <tr>\n",
       "      <th>3</th>\n",
       "      <td>八宝山</td>\n",
       "      <td>玉泉路</td>\n",
       "      <td>1479</td>\n",
       "    </tr>\n",
       "    <tr>\n",
       "      <th>4</th>\n",
       "      <td>玉泉路</td>\n",
       "      <td>五棵松</td>\n",
       "      <td>1810</td>\n",
       "    </tr>\n",
       "    <tr>\n",
       "      <th>5</th>\n",
       "      <td>五棵松</td>\n",
       "      <td>万寿路</td>\n",
       "      <td>1778</td>\n",
       "    </tr>\n",
       "    <tr>\n",
       "      <th>6</th>\n",
       "      <td>万寿路</td>\n",
       "      <td>公主坟</td>\n",
       "      <td>1313</td>\n",
       "    </tr>\n",
       "    <tr>\n",
       "      <th>7</th>\n",
       "      <td>公主坟</td>\n",
       "      <td>军事博物馆</td>\n",
       "      <td>1172</td>\n",
       "    </tr>\n",
       "    <tr>\n",
       "      <th>8</th>\n",
       "      <td>军事博物馆</td>\n",
       "      <td>木樨地</td>\n",
       "      <td>1166</td>\n",
       "    </tr>\n",
       "    <tr>\n",
       "      <th>9</th>\n",
       "      <td>木樨地</td>\n",
       "      <td>南礼士路</td>\n",
       "      <td>1291</td>\n",
       "    </tr>\n",
       "  </tbody>\n",
       "</table>\n",
       "</div>"
      ],
      "text/plain": [
       "  departure destination distance\n",
       "0       苹果园          古城     2606\n",
       "1        古城       八角游乐园     1921\n",
       "2     八角游乐园         八宝山     1953\n",
       "3       八宝山         玉泉路     1479\n",
       "4       玉泉路         五棵松     1810\n",
       "5       五棵松         万寿路     1778\n",
       "6       万寿路         公主坟     1313\n",
       "7       公主坟       军事博物馆     1172\n",
       "8     军事博物馆         木樨地     1166\n",
       "9       木樨地        南礼士路     1291"
      ]
     },
     "execution_count": 168,
     "metadata": {},
     "output_type": "execute_result"
    }
   ],
   "source": [
    "distances_data_df.head(10)"
   ]
  },
  {
   "cell_type": "code",
   "execution_count": 190,
   "metadata": {},
   "outputs": [
    {
     "data": {
      "text/plain": [
       "str"
      ]
     },
     "execution_count": 190,
     "metadata": {},
     "output_type": "execute_result"
    }
   ],
   "source": [
    "#万寿路\t公主坟 \n",
    "df=distances_data_df\n",
    "type(df[(df.departure=='万寿路')&(df.destination=='公主坟')].distance.tolist()[0])"
   ]
  },
  {
   "cell_type": "code",
   "execution_count": 234,
   "metadata": {},
   "outputs": [],
   "source": [
    "def get_between_stop_distance(origin, destination):\n",
    "    #global distances_data_df\n",
    "    df=distances_data_df\n",
    "    if origin==destination:\n",
    "        return 0 \n",
    "    '''\n",
    "    elif any(df[(df.departure==origin)&(df.destination==destination)]):\n",
    "        temp=df[(df.departure==origin)&(df.destination==destination)]\n",
    "        if any(temp):\n",
    "            dis=int(temp.distance.tolist()[0])\n",
    "            return dis\n",
    "    elif any(df[(df.departure==destination)&(df.destination==origin)]):\n",
    "        temp=df[(df.departure==destination)&(df.destination==origin)]\n",
    "        if any(temp):\n",
    "            dis=int(temp.distance.tolist()[0])\n",
    "            return dis\n",
    "    '''\n",
    "    try:\n",
    "        temp=df[(df.departure==origin)&(df.destination==destination)]\n",
    "        if any(temp):\n",
    "            dis=int(temp.distance.tolist()[0])\n",
    "            return dis\n",
    "    except: \n",
    "         \n",
    "        return 1000000000\n",
    "    "
   ]
  },
  {
   "cell_type": "code",
   "execution_count": 251,
   "metadata": {},
   "outputs": [
    {
     "data": {
      "text/plain": [
       "1000000000"
      ]
     },
     "execution_count": 251,
     "metadata": {},
     "output_type": "execute_result"
    }
   ],
   "source": [
    "get_between_stop_distance('木樨地','八角游乐园')"
   ]
  },
  {
   "cell_type": "markdown",
   "metadata": {},
   "source": [
    "### and a search algo that uses this sorting algorithm "
   ]
  },
  {
   "cell_type": "code",
   "execution_count": 252,
   "metadata": {},
   "outputs": [],
   "source": [
    "def search(start, destination, connection_grpah, sort_candidate):\n",
    "    paths = [[start]]\n",
    "    \n",
    "    visitied = set()\n",
    "    \n",
    "    while paths: # if we find existing pathes\n",
    "        path = paths.pop(0)\n",
    "        frontier = path[-1]\n",
    "        \n",
    "        if frontier in visitied: continue\n",
    "            \n",
    "        successors = connection_grpah[frontier]\n",
    "        \n",
    "        for city in successors:\n",
    "            if city in path: continue  # eliminate loop\n",
    "                \n",
    "            new_path = path + [city]\n",
    "            \n",
    "            paths.append(new_path)\n",
    "            \n",
    "            if city == destination: return new_path\n",
    "        visitied.add(frontier)\n",
    "        paths = sort_candidate(paths) # 我们可以加一个排序函数 对我们的搜索策略进行控制"
   ]
  },
  {
   "cell_type": "code",
   "execution_count": 152,
   "metadata": {},
   "outputs": [
    {
     "data": {
      "text/plain": [
       "['欢乐谷景区',\n",
       " '南楼梓庄',\n",
       " '化工',\n",
       " '百子湾',\n",
       " '大郊亭',\n",
       " '九龙山',\n",
       " '大望路',\n",
       " '国贸',\n",
       " '永安里',\n",
       " '建国门',\n",
       " '朝阳门',\n",
       " '东四',\n",
       " '南锣鼓巷',\n",
       " '什刹海',\n",
       " '鼓楼大街',\n",
       " '安德里北街',\n",
       " '安华桥',\n",
       " '北土城',\n",
       " '奥体中心',\n",
       " '奥林匹克公园']"
      ]
     },
     "execution_count": 152,
     "metadata": {},
     "output_type": "execute_result"
    }
   ],
   "source": [
    "search('欢乐谷景区', '奥林匹克公园', city_connection, sort_candidate=least_stops_first)"
   ]
  },
  {
   "cell_type": "code",
   "execution_count": 153,
   "metadata": {},
   "outputs": [
    {
     "data": {
      "text/plain": [
       "['欢乐谷景区', '南楼梓庄', '化工', '百子湾', '大郊亭', '九龙山', '大望路', '红庙', '金台路', '朝阳公园']"
      ]
     },
     "execution_count": 153,
     "metadata": {},
     "output_type": "execute_result"
    }
   ],
   "source": [
    "search('欢乐谷景区', '朝阳公园', city_connection, sort_candidate=least_stops_first)"
   ]
  },
  {
   "cell_type": "code",
   "execution_count": 255,
   "metadata": {},
   "outputs": [
    {
     "data": {
      "text/plain": [
       "['欢乐谷景区', '南楼梓庄', '化工', '百子湾', '大郊亭', '九龙山', '大望路', '红庙', '金台路', '朝阳公园']"
      ]
     },
     "execution_count": 255,
     "metadata": {},
     "output_type": "execute_result"
    }
   ],
   "source": [
    "search('欢乐谷景区', '朝阳公园', city_connection, sort_candidate=min_distances_first)"
   ]
  },
  {
   "cell_type": "code",
   "execution_count": 256,
   "metadata": {},
   "outputs": [
    {
     "data": {
      "text/plain": [
       "['欢乐谷景区',\n",
       " '南楼梓庄',\n",
       " '化工',\n",
       " '百子湾',\n",
       " '大郊亭',\n",
       " '九龙山',\n",
       " '大望路',\n",
       " '国贸',\n",
       " '永安里',\n",
       " '建国门',\n",
       " '朝阳门',\n",
       " '东四',\n",
       " '南锣鼓巷',\n",
       " '什刹海',\n",
       " '鼓楼大街',\n",
       " '安德里北街',\n",
       " '安华桥',\n",
       " '北土城',\n",
       " '奥体中心',\n",
       " '奥林匹克公园']"
      ]
     },
     "execution_count": 256,
     "metadata": {},
     "output_type": "execute_result"
    }
   ],
   "source": [
    "search('欢乐谷景区', '奥林匹克公园', city_connection, sort_candidate=least_stops_first)"
   ]
  },
  {
   "cell_type": "code",
   "execution_count": 254,
   "metadata": {},
   "outputs": [
    {
     "data": {
      "text/plain": [
       "['欢乐谷景区',\n",
       " '南楼梓庄',\n",
       " '化工',\n",
       " '百子湾',\n",
       " '大郊亭',\n",
       " '九龙山',\n",
       " '大望路',\n",
       " '国贸',\n",
       " '永安里',\n",
       " '建国门',\n",
       " '朝阳门',\n",
       " '东四',\n",
       " '南锣鼓巷',\n",
       " '什刹海',\n",
       " '鼓楼大街',\n",
       " '安德里北街',\n",
       " '安华桥',\n",
       " '北土城',\n",
       " '奥体中心',\n",
       " '奥林匹克公园']"
      ]
     },
     "execution_count": 254,
     "metadata": {},
     "output_type": "execute_result"
    }
   ],
   "source": [
    "search('欢乐谷景区', '奥林匹克公园', city_connection, sort_candidate=min_distances_first)"
   ]
  }
 ],
 "metadata": {
  "kernelspec": {
   "display_name": "Python 3",
   "language": "python",
   "name": "python3"
  },
  "language_info": {
   "codemirror_mode": {
    "name": "ipython",
    "version": 3
   },
   "file_extension": ".py",
   "mimetype": "text/x-python",
   "name": "python",
   "nbconvert_exporter": "python",
   "pygments_lexer": "ipython3",
   "version": "3.7.1"
  }
 },
 "nbformat": 4,
 "nbformat_minor": 2
}
